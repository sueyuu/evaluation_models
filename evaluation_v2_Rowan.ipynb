{
 "cells": [
  {
   "cell_type": "code",
   "execution_count": 1,
   "metadata": {
    "id": "jxOtKD1a6Uq3"
   },
   "outputs": [],
   "source": [
    "MOTIF_LENGTH = 1727\n",
    "K_MEDOID_LENGTH = 157\n",
    "\n",
    "# TODO: color for histogram, you can reference matplotlib website to change your color\n",
    "css4_colors = [\"magenta\", \"yellow\", \"aqua\", \"coral\", \"limegreen\", \"orange\", \"slategray\"]"
   ]
  },
  {
   "cell_type": "code",
   "execution_count": 2,
   "metadata": {
    "colab": {
     "base_uri": "https://localhost:8080/"
    },
    "executionInfo": {
     "elapsed": 6267,
     "status": "ok",
     "timestamp": 1748877359043,
     "user": {
      "displayName": "Rowan Delgado Marquez",
      "userId": "05270833907102188737"
     },
     "user_tz": -480
    },
    "id": "YUnBj0GKNdDH",
    "outputId": "0bdddee5-0c7f-453f-b94e-28b16ce88edc"
   },
   "outputs": [
    {
     "name": "stdout",
     "output_type": "stream",
     "text": [
      "Requirement already satisfied: numpy in /home/rowan/miniconda3/envs/retry/lib/python3.9/site-packages (1.26.3)\n",
      "Requirement already satisfied: scipy in /home/rowan/miniconda3/envs/retry/lib/python3.9/site-packages (1.13.1)\n",
      "Requirement already satisfied: numpy<2.3,>=1.22.4 in /home/rowan/miniconda3/envs/retry/lib/python3.9/site-packages (from scipy) (1.26.3)\n",
      "Requirement already satisfied: entropy in /home/rowan/miniconda3/envs/retry/lib/python3.9/site-packages (0.1.5)\n",
      "Requirement already satisfied: colorama>=0.4.3 in /home/rowan/miniconda3/envs/retry/lib/python3.9/site-packages (from entropy) (0.4.6)\n",
      "Requirement already satisfied: docopt>=0.6.2 in /home/rowan/miniconda3/envs/retry/lib/python3.9/site-packages (from entropy) (0.6.2)\n",
      "Requirement already satisfied: setuptools>=42.0.2 in /home/rowan/miniconda3/envs/retry/lib/python3.9/site-packages (from entropy) (78.1.1)\n",
      "Requirement already satisfied: pandas in /home/rowan/miniconda3/envs/retry/lib/python3.9/site-packages (2.2.3)\n",
      "Requirement already satisfied: numpy>=1.22.4 in /home/rowan/miniconda3/envs/retry/lib/python3.9/site-packages (from pandas) (1.26.3)\n",
      "Requirement already satisfied: python-dateutil>=2.8.2 in /home/rowan/miniconda3/envs/retry/lib/python3.9/site-packages (from pandas) (2.9.0.post0)\n",
      "Requirement already satisfied: pytz>=2020.1 in /home/rowan/miniconda3/envs/retry/lib/python3.9/site-packages (from pandas) (2025.2)\n",
      "Requirement already satisfied: tzdata>=2022.7 in /home/rowan/miniconda3/envs/retry/lib/python3.9/site-packages (from pandas) (2025.2)\n",
      "Requirement already satisfied: six>=1.5 in /home/rowan/miniconda3/envs/retry/lib/python3.9/site-packages (from python-dateutil>=2.8.2->pandas) (1.17.0)\n",
      "Requirement already satisfied: tslearn in /home/rowan/miniconda3/envs/retry/lib/python3.9/site-packages (0.6.3)\n",
      "Requirement already satisfied: numpy in /home/rowan/miniconda3/envs/retry/lib/python3.9/site-packages (from tslearn) (1.26.3)\n",
      "Requirement already satisfied: scipy in /home/rowan/miniconda3/envs/retry/lib/python3.9/site-packages (from tslearn) (1.13.1)\n",
      "Requirement already satisfied: scikit-learn in /home/rowan/miniconda3/envs/retry/lib/python3.9/site-packages (from tslearn) (1.6.1)\n",
      "Requirement already satisfied: numba in /home/rowan/miniconda3/envs/retry/lib/python3.9/site-packages (from tslearn) (0.60.0)\n",
      "Requirement already satisfied: joblib in /home/rowan/miniconda3/envs/retry/lib/python3.9/site-packages (from tslearn) (1.4.2)\n",
      "Requirement already satisfied: llvmlite<0.44,>=0.43.0dev0 in /home/rowan/miniconda3/envs/retry/lib/python3.9/site-packages (from numba->tslearn) (0.43.0)\n",
      "Requirement already satisfied: threadpoolctl>=3.1.0 in /home/rowan/miniconda3/envs/retry/lib/python3.9/site-packages (from scikit-learn->tslearn) (3.6.0)\n",
      "Requirement already satisfied: torchdrift in /home/rowan/miniconda3/envs/retry/lib/python3.9/site-packages (0.1.0)\n",
      "Requirement already satisfied: torch in /home/rowan/miniconda3/envs/retry/lib/python3.9/site-packages (from torchdrift) (2.6.0+cpu)\n",
      "Requirement already satisfied: filelock in /home/rowan/miniconda3/envs/retry/lib/python3.9/site-packages (from torch->torchdrift) (3.13.1)\n",
      "Requirement already satisfied: typing-extensions>=4.10.0 in /home/rowan/miniconda3/envs/retry/lib/python3.9/site-packages (from torch->torchdrift) (4.12.2)\n",
      "Requirement already satisfied: networkx in /home/rowan/miniconda3/envs/retry/lib/python3.9/site-packages (from torch->torchdrift) (3.2.1)\n",
      "Requirement already satisfied: jinja2 in /home/rowan/miniconda3/envs/retry/lib/python3.9/site-packages (from torch->torchdrift) (3.1.4)\n",
      "Requirement already satisfied: fsspec in /home/rowan/miniconda3/envs/retry/lib/python3.9/site-packages (from torch->torchdrift) (2024.6.1)\n",
      "Requirement already satisfied: sympy==1.13.1 in /home/rowan/miniconda3/envs/retry/lib/python3.9/site-packages (from torch->torchdrift) (1.13.1)\n",
      "Requirement already satisfied: mpmath<1.4,>=1.1.0 in /home/rowan/miniconda3/envs/retry/lib/python3.9/site-packages (from sympy==1.13.1->torch->torchdrift) (1.3.0)\n",
      "Requirement already satisfied: MarkupSafe>=2.0 in /home/rowan/miniconda3/envs/retry/lib/python3.9/site-packages (from jinja2->torch->torchdrift) (2.1.5)\n",
      "Requirement already satisfied: tqdm in /home/rowan/miniconda3/envs/retry/lib/python3.9/site-packages (4.67.1)\n",
      "Requirement already satisfied: matplotlib in /home/rowan/miniconda3/envs/retry/lib/python3.9/site-packages (3.8.4)\n",
      "Requirement already satisfied: contourpy>=1.0.1 in /home/rowan/miniconda3/envs/retry/lib/python3.9/site-packages (from matplotlib) (1.3.0)\n",
      "Requirement already satisfied: cycler>=0.10 in /home/rowan/miniconda3/envs/retry/lib/python3.9/site-packages (from matplotlib) (0.12.1)\n",
      "Requirement already satisfied: fonttools>=4.22.0 in /home/rowan/miniconda3/envs/retry/lib/python3.9/site-packages (from matplotlib) (4.58.1)\n",
      "Requirement already satisfied: kiwisolver>=1.3.1 in /home/rowan/miniconda3/envs/retry/lib/python3.9/site-packages (from matplotlib) (1.4.7)\n",
      "Requirement already satisfied: numpy>=1.21 in /home/rowan/miniconda3/envs/retry/lib/python3.9/site-packages (from matplotlib) (1.26.3)\n",
      "Requirement already satisfied: packaging>=20.0 in /home/rowan/miniconda3/envs/retry/lib/python3.9/site-packages (from matplotlib) (25.0)\n",
      "Requirement already satisfied: pillow>=8 in /home/rowan/miniconda3/envs/retry/lib/python3.9/site-packages (from matplotlib) (8.3.2)\n",
      "Requirement already satisfied: pyparsing>=2.3.1 in /home/rowan/miniconda3/envs/retry/lib/python3.9/site-packages (from matplotlib) (3.2.3)\n",
      "Requirement already satisfied: python-dateutil>=2.7 in /home/rowan/miniconda3/envs/retry/lib/python3.9/site-packages (from matplotlib) (2.9.0.post0)\n",
      "Requirement already satisfied: importlib-resources>=3.2.0 in /home/rowan/miniconda3/envs/retry/lib/python3.9/site-packages (from matplotlib) (6.5.2)\n",
      "Requirement already satisfied: zipp>=3.1.0 in /home/rowan/miniconda3/envs/retry/lib/python3.9/site-packages (from importlib-resources>=3.2.0->matplotlib) (3.22.0)\n",
      "Requirement already satisfied: six>=1.5 in /home/rowan/miniconda3/envs/retry/lib/python3.9/site-packages (from python-dateutil>=2.7->matplotlib) (1.17.0)\n",
      "Requirement already satisfied: seaborn in /home/rowan/miniconda3/envs/retry/lib/python3.9/site-packages (0.13.2)\n",
      "Requirement already satisfied: numpy!=1.24.0,>=1.20 in /home/rowan/miniconda3/envs/retry/lib/python3.9/site-packages (from seaborn) (1.26.3)\n",
      "Requirement already satisfied: pandas>=1.2 in /home/rowan/miniconda3/envs/retry/lib/python3.9/site-packages (from seaborn) (2.2.3)\n",
      "Requirement already satisfied: matplotlib!=3.6.1,>=3.4 in /home/rowan/miniconda3/envs/retry/lib/python3.9/site-packages (from seaborn) (3.8.4)\n",
      "Requirement already satisfied: contourpy>=1.0.1 in /home/rowan/miniconda3/envs/retry/lib/python3.9/site-packages (from matplotlib!=3.6.1,>=3.4->seaborn) (1.3.0)\n",
      "Requirement already satisfied: cycler>=0.10 in /home/rowan/miniconda3/envs/retry/lib/python3.9/site-packages (from matplotlib!=3.6.1,>=3.4->seaborn) (0.12.1)\n",
      "Requirement already satisfied: fonttools>=4.22.0 in /home/rowan/miniconda3/envs/retry/lib/python3.9/site-packages (from matplotlib!=3.6.1,>=3.4->seaborn) (4.58.1)\n",
      "Requirement already satisfied: kiwisolver>=1.3.1 in /home/rowan/miniconda3/envs/retry/lib/python3.9/site-packages (from matplotlib!=3.6.1,>=3.4->seaborn) (1.4.7)\n",
      "Requirement already satisfied: packaging>=20.0 in /home/rowan/miniconda3/envs/retry/lib/python3.9/site-packages (from matplotlib!=3.6.1,>=3.4->seaborn) (25.0)\n",
      "Requirement already satisfied: pillow>=8 in /home/rowan/miniconda3/envs/retry/lib/python3.9/site-packages (from matplotlib!=3.6.1,>=3.4->seaborn) (8.3.2)\n",
      "Requirement already satisfied: pyparsing>=2.3.1 in /home/rowan/miniconda3/envs/retry/lib/python3.9/site-packages (from matplotlib!=3.6.1,>=3.4->seaborn) (3.2.3)\n",
      "Requirement already satisfied: python-dateutil>=2.7 in /home/rowan/miniconda3/envs/retry/lib/python3.9/site-packages (from matplotlib!=3.6.1,>=3.4->seaborn) (2.9.0.post0)\n",
      "Requirement already satisfied: importlib-resources>=3.2.0 in /home/rowan/miniconda3/envs/retry/lib/python3.9/site-packages (from matplotlib!=3.6.1,>=3.4->seaborn) (6.5.2)\n",
      "Requirement already satisfied: zipp>=3.1.0 in /home/rowan/miniconda3/envs/retry/lib/python3.9/site-packages (from importlib-resources>=3.2.0->matplotlib!=3.6.1,>=3.4->seaborn) (3.22.0)\n",
      "Requirement already satisfied: pytz>=2020.1 in /home/rowan/miniconda3/envs/retry/lib/python3.9/site-packages (from pandas>=1.2->seaborn) (2025.2)\n",
      "Requirement already satisfied: tzdata>=2022.7 in /home/rowan/miniconda3/envs/retry/lib/python3.9/site-packages (from pandas>=1.2->seaborn) (2025.2)\n",
      "Requirement already satisfied: six>=1.5 in /home/rowan/miniconda3/envs/retry/lib/python3.9/site-packages (from python-dateutil>=2.7->matplotlib!=3.6.1,>=3.4->seaborn) (1.17.0)\n",
      "Requirement already satisfied: sktime in /home/rowan/miniconda3/envs/retry/lib/python3.9/site-packages (0.36.0)\n",
      "Requirement already satisfied: joblib<1.5,>=1.2.0 in /home/rowan/miniconda3/envs/retry/lib/python3.9/site-packages (from sktime) (1.4.2)\n",
      "Requirement already satisfied: numpy<2.3,>=1.21 in /home/rowan/miniconda3/envs/retry/lib/python3.9/site-packages (from sktime) (1.26.3)\n",
      "Requirement already satisfied: packaging in /home/rowan/miniconda3/envs/retry/lib/python3.9/site-packages (from sktime) (25.0)\n",
      "Requirement already satisfied: pandas<2.3.0,>=1.1 in /home/rowan/miniconda3/envs/retry/lib/python3.9/site-packages (from sktime) (2.2.3)\n",
      "Requirement already satisfied: scikit-base<0.13.0,>=0.6.1 in /home/rowan/miniconda3/envs/retry/lib/python3.9/site-packages (from sktime) (0.12.2)\n",
      "Requirement already satisfied: scikit-learn<1.7.0,>=0.24 in /home/rowan/miniconda3/envs/retry/lib/python3.9/site-packages (from sktime) (1.6.1)\n",
      "Requirement already satisfied: scipy<2.0.0,>=1.2 in /home/rowan/miniconda3/envs/retry/lib/python3.9/site-packages (from sktime) (1.13.1)\n",
      "Requirement already satisfied: python-dateutil>=2.8.2 in /home/rowan/miniconda3/envs/retry/lib/python3.9/site-packages (from pandas<2.3.0,>=1.1->sktime) (2.9.0.post0)\n",
      "Requirement already satisfied: pytz>=2020.1 in /home/rowan/miniconda3/envs/retry/lib/python3.9/site-packages (from pandas<2.3.0,>=1.1->sktime) (2025.2)\n",
      "Requirement already satisfied: tzdata>=2022.7 in /home/rowan/miniconda3/envs/retry/lib/python3.9/site-packages (from pandas<2.3.0,>=1.1->sktime) (2025.2)\n",
      "Requirement already satisfied: threadpoolctl>=3.1.0 in /home/rowan/miniconda3/envs/retry/lib/python3.9/site-packages (from scikit-learn<1.7.0,>=0.24->sktime) (3.6.0)\n",
      "Requirement already satisfied: six>=1.5 in /home/rowan/miniconda3/envs/retry/lib/python3.9/site-packages (from python-dateutil>=2.8.2->pandas<2.3.0,>=1.1->sktime) (1.17.0)\n"
     ]
    }
   ],
   "source": [
    "import sys\n",
    "!{sys.executable} -m pip install numpy\n",
    "!{sys.executable} -m pip install scipy\n",
    "!{sys.executable} -m pip install entropy\n",
    "!{sys.executable} -m pip install pandas\n",
    "!{sys.executable} -m pip install tslearn\n",
    "!{sys.executable} -m pip install torchdrift\n",
    "!{sys.executable} -m pip install tqdm\n",
    "!{sys.executable} -m pip install matplotlib\n",
    "!{sys.executable} -m pip install seaborn\n",
    "!{sys.executable} -m pip install sktime"
   ]
  },
  {
   "cell_type": "code",
   "execution_count": 3,
   "metadata": {},
   "outputs": [
    {
     "name": "stdout",
     "output_type": "stream",
     "text": [
      "Requirement already satisfied: h5py in /home/rowan/miniconda3/envs/retry/lib/python3.9/site-packages (3.13.0)\n",
      "Requirement already satisfied: numpy>=1.19.3 in /home/rowan/miniconda3/envs/retry/lib/python3.9/site-packages (from h5py) (1.26.3)\n"
     ]
    }
   ],
   "source": [
    "!pip install h5py"
   ]
  },
  {
   "cell_type": "code",
   "execution_count": 4,
   "metadata": {
    "colab": {
     "base_uri": "https://localhost:8080/",
     "height": 378
    },
    "executionInfo": {
     "elapsed": 10065,
     "status": "error",
     "timestamp": 1748882689687,
     "user": {
      "displayName": "Young Shin",
      "userId": "07049165016462922415"
     },
     "user_tz": -480
    },
    "id": "yWGFQHOpy1sX",
    "outputId": "163716d8-6280-499a-9564-4016a0a7ca11"
   },
   "outputs": [],
   "source": [
    "import numpy as np\n",
    "from collections import Counter\n",
    "from scipy.stats import entropy\n",
    "import os\n",
    "from itertools import combinations, product\n",
    "import pandas as pd\n",
    "from tslearn.metrics import dtw\n",
    "from myf import calculate_f_jk, calculate_g_x\n",
    "from joblib import Parallel, delayed\n",
    "import pickle\n",
    "from scipy import stats"
   ]
  },
  {
   "cell_type": "markdown",
   "metadata": {
    "id": "IQZF1inXg1EH"
   },
   "source": [
    "calculate entropy of a sample (days,)"
   ]
  },
  {
   "cell_type": "code",
   "execution_count": 5,
   "metadata": {
    "id": "0qPxxAIKzUmL"
   },
   "outputs": [],
   "source": [
    "def my_entropy(data):\n",
    "    # data is a class array\n",
    "    # Calculate probabilities\n",
    "    start = -1\n",
    "    for i in range(len(data)):\n",
    "        if data[i] == -1:\n",
    "            data[i] = start\n",
    "            start -= 1\n",
    "\n",
    "    counts = Counter(data)\n",
    "    probabilities = [count / len(data) for count in counts.values()]\n",
    "\n",
    "    # Calculate Shannon entropy (base 2)\n",
    "    shannon_entropy = entropy(probabilities)\n",
    "\n",
    "    return shannon_entropy\n",
    "    # print(\"Shannon Entropy:\", shannon_entropy)"
   ]
  },
  {
   "cell_type": "markdown",
   "metadata": {
    "id": "3AvlUbaJg9tY"
   },
   "source": [
    "calculate MaximumMeanDiscrepancy between two samples with shape (batchsize, feature_nums = ts_length)"
   ]
  },
  {
   "cell_type": "code",
   "execution_count": 6,
   "metadata": {
    "id": "0ZJRuJNIBqLP"
   },
   "outputs": [],
   "source": [
    "from torchdrift.detectors import kernel_mmd\n",
    "import torch\n",
    "\n",
    "\n",
    "def calculate_mmd(x, y):  # sample_num, features\n",
    "    def replace_negative_ones_2d(arr):\n",
    "        indices = np.where(arr == -1)\n",
    "        count = 1\n",
    "        for i in range(len(indices[0])):\n",
    "            arr[indices[0][i], indices[1][i]] = -1 * count\n",
    "            count += 1\n",
    "        return arr\n",
    "\n",
    "    x = replace_negative_ones_2d(x)\n",
    "    y = replace_negative_ones_2d(y)\n",
    "\n",
    "    # Convert numpy arrays to torch tensors\n",
    "    x_tensor = torch.tensor(x, dtype=torch.float32)\n",
    "    y_tensor = torch.tensor(y, dtype=torch.float32)\n",
    "\n",
    "    # Initialize the MMD metric\n",
    "    metric = kernel_mmd(x_tensor, y_tensor)\n",
    "\n",
    "    return metric  # MMD Score, p_value"
   ]
  },
  {
   "cell_type": "markdown",
   "metadata": {
    "id": "-FDbYtU-hLKR"
   },
   "source": [
    "for a set of samples(returned motifs), calculate avg_intra_cluster_distance to evaluate the density of the motifs (days,)"
   ]
  },
  {
   "cell_type": "code",
   "execution_count": 7,
   "metadata": {
    "id": "JK49H3dfUvlS"
   },
   "outputs": [],
   "source": [
    "# need to change dist calculation\n",
    "def avg_intra_cluster_distance(cluster):\n",
    "\n",
    "    def compute_dtw(point, other_point):\n",
    "        return dtw(point, other_point)\n",
    "\n",
    "    n = len(cluster)\n",
    "    indices = list(combinations(range(n), 2))\n",
    "    distances = Parallel(n_jobs=-1)(\n",
    "        delayed(compute_dtw)(cluster[i], cluster[j]) for i, j in indices\n",
    "    )\n",
    "\n",
    "    return np.mean(distances)"
   ]
  },
  {
   "cell_type": "markdown",
   "metadata": {
    "id": "oQCo4cNZJ479"
   },
   "source": [
    "for evaluating diversity, intratrial or intertrial similarity. first need to sample and return a subset based on certain criteria\n",
    "\n",
    "the following code is used to return sampled file names"
   ]
  },
  {
   "cell_type": "code",
   "execution_count": 8,
   "metadata": {
    "id": "63DZTSmDKkWL"
   },
   "outputs": [],
   "source": [
    "# return file_list according to criteria(ex. which trial and which sex group...)\n",
    "def get_samples(\n",
    "    file_list,\n",
    "    sample_num,\n",
    "    trial=None,\n",
    "    synthetic=None,\n",
    "    sex=None,\n",
    "    age=None,\n",
    "    treatment=None,\n",
    "    tir=None,\n",
    "):\n",
    "\n",
    "    # first exclude the ones not meet the criteria\n",
    "    if trial is not None:\n",
    "        file_list = [file for file in file_list if file[0] == trial]\n",
    "    if synthetic is not None:\n",
    "        file_list = [file for file in file_list if file[2] == str(synthetic)]\n",
    "    if sex is not None:\n",
    "        file_list = [file for file in file_list if file.split(\"_\")[4][0] == str(sex)]\n",
    "    if age is not None:\n",
    "        file_list = [file for file in file_list if file.split(\"_\")[4][1] == str(age)]\n",
    "    if treatment is not None:\n",
    "        file_list = [\n",
    "            file for file in file_list if file.split(\"_\")[4][2] == str(treatment)\n",
    "        ]\n",
    "    if tir is not None:\n",
    "        file_list = [file for file in file_list if file.split(\"_\")[4][3] == str(tir)]\n",
    "\n",
    "    sample_num = min(sample_num, len(file_list))\n",
    "\n",
    "    final_samples = np.array(file_list)\n",
    "\n",
    "    if sample_num == 0:\n",
    "        return None\n",
    "\n",
    "    # Randomly selecting `sample_num` rows\n",
    "    indices = np.random.choice(final_samples.shape[0], sample_num, replace=False)\n",
    "    final_samples = final_samples[indices]\n",
    "\n",
    "    # If you want a 2D array (sample_num, 1), reshape if needed:\n",
    "    final_samples = final_samples.reshape(-1, 1)\n",
    "\n",
    "    print(\"sample_num: \", sample_num)\n",
    "\n",
    "    return final_samples  # (sample_num, 1)"
   ]
  },
  {
   "cell_type": "markdown",
   "metadata": {
    "id": "tnADOg7TnekO"
   },
   "source": [
    "give a file name, return a numpy array"
   ]
  },
  {
   "cell_type": "code",
   "execution_count": 9,
   "metadata": {
    "id": "CF7nsLh7oMqj"
   },
   "outputs": [],
   "source": [
    "def load_time_series(file, folder_name):  # for each file, please use parallel\n",
    "\n",
    "    file_path = os.path.join(folder_name, file)\n",
    "    data = np.load(file_path)  # (7, MOTIF_LENGTH) each segment\n",
    "    return data"
   ]
  },
  {
   "cell_type": "markdown",
   "metadata": {
    "id": "6spVl7WFgwzy"
   },
   "source": [
    "apply a sample and return motifs index and barycenter time series"
   ]
  },
  {
   "cell_type": "code",
   "execution_count": 10,
   "metadata": {
    "id": "BhZG00BE-Zf9"
   },
   "outputs": [],
   "source": [
    "# apply with a test sample or whole validation set\n",
    "# data is (days, MOTIF_LENGTH)\n",
    "def apply_motifs(motifs, tau, data):\n",
    "    \"\"\"\n",
    "    motif_info = {\n",
    "            \"motif\": {\"pattern1\": profiles[row], \"pattern2\": profiles[col]}#non transformed\n",
    "            \"pair_idx\": (row, col),\n",
    "            \"score\": min_value,\n",
    "            \"barycenter\": barycenter,\n",
    "        }\n",
    "    \"\"\"\n",
    "\n",
    "    motif_num = len(motifs)\n",
    "    data_num = len(data)\n",
    "    # rows, each data, columns each motif, entry: dist\n",
    "    dtw_matrix_validation = np.zeros((data_num, motif_num))\n",
    "    # motif_num is motif_index\n",
    "    indices = list(product(range(data_num), range(motif_num)))\n",
    "\n",
    "    # inner function\n",
    "    def min_distance(data_i, train_j):\n",
    "        # train_j is a list or array with two profiles\n",
    "        return min(\n",
    "            calculate_f_jk(data_i, train_j[\"pattern1\"]),\n",
    "            calculate_f_jk(data_i, train_j[\"pattern2\"]),\n",
    "        )\n",
    "\n",
    "    # j is motif index in motifs list, should be the same as motif index in info\n",
    "    distances = Parallel(n_jobs=-1)(\n",
    "        delayed(min_distance)(data[i], motifs[j][\"motif\"]) for i, j in indices\n",
    "    )\n",
    "\n",
    "    # Assign score into matrix\n",
    "    for (i, j), dist in zip(indices, distances):\n",
    "        dtw_matrix_validation[i, j] = dist\n",
    "\n",
    "    my_mask = np.zeros(dtw_matrix_validation.shape, dtype=bool)\n",
    "\n",
    "    masked = np.ma.masked_array(\n",
    "        dtw_matrix_validation, mask=my_mask\n",
    "    )  # mask need to match matrix shape (n, k)\n",
    "\n",
    "    threshold = [motif[\"score\"] + tau for motif in motifs]  # shape k\n",
    "    threshold = np.array(threshold)\n",
    "\n",
    "    # Create a new mask where entries are True if masked >= threshold (broadcasted)\n",
    "    new_mask = masked >= threshold  # shape (n, k), broadcasting threshold\n",
    "\n",
    "    # Combine with the existing mask (if any)\n",
    "    combined_mask = np.logical_or(masked.mask, new_mask)\n",
    "\n",
    "    # Apply the combined mask to get a new masked array\n",
    "    masked = np.ma.masked_array(\n",
    "        masked.data, mask=combined_mask\n",
    "    )  # Now masked has entries masked where masked >= threshold (per column)\n",
    "\n",
    "    # Set index to -1 where all values are masked\n",
    "    min_indices = np.full(masked.shape[0], -1)\n",
    "    for i, row in enumerate(masked):\n",
    "\n",
    "        if not np.all(row.mask):\n",
    "            min_indices[i] = np.argmin(row)\n",
    "\n",
    "    min_barycenter = [\n",
    "        (\n",
    "            np.squeeze(motifs[idx][\"barycenter\"])\n",
    "            if idx != -1\n",
    "            else np.array(calculate_g_x(d))\n",
    "        )\n",
    "        for idx, d in zip(min_indices, data)\n",
    "    ]\n",
    "\n",
    "    return np.array(min_indices), np.array(\n",
    "        min_barycenter\n",
    "    )  # (n,) and (n, MOTIF_LENGTH) barycenter are transformed ones"
   ]
  },
  {
   "cell_type": "markdown",
   "metadata": {
    "id": "QvqkDqNMsktA"
   },
   "source": [
    "apply a sample and return k_medoid center idx and center time series"
   ]
  },
  {
   "cell_type": "code",
   "execution_count": 11,
   "metadata": {
    "id": "VtPEPzKusoaP"
   },
   "outputs": [],
   "source": [
    "def apply_k_medoids(\n",
    "    threshold, val, km\n",
    "):  # the val/test are nondownsampled and non logtransformed\n",
    "\n",
    "    # val (days, MOTIF_LENGTH)\n",
    "\n",
    "    downsampled_val = val[:, ::11]  # (days, K_MEDOID_LENGTH)\n",
    "\n",
    "    log_val = np.apply_along_axis(calculate_g_x, axis=1, arr=downsampled_val)\n",
    "\n",
    "    val_result = km.predict(log_val)\n",
    "\n",
    "    centers = km.cluster_centers_\n",
    "\n",
    "    def testing_threshold(threshold, log_val_e, val_result, centers):\n",
    "\n",
    "        center = np.squeeze(\n",
    "            centers[val_result]\n",
    "        )  # (1, K_MEDOID_LENGTH) to (K_MEDOID_LENGTH)\n",
    "\n",
    "        if dtw(log_val_e, center) >= threshold:\n",
    "\n",
    "            return -1\n",
    "        return val_result\n",
    "\n",
    "    indices = list(range(len(log_val)))\n",
    "\n",
    "    results = Parallel(n_jobs=-1)(\n",
    "        delayed(testing_threshold)(threshold, log_val[i], val_result[i], centers)\n",
    "        for i in indices\n",
    "    )  # center idx results\n",
    "\n",
    "    centers_results = [\n",
    "        np.squeeze(centers[idx]) if idx != -1 else d for idx, d in zip(results, log_val)\n",
    "    ]\n",
    "\n",
    "    return np.array(results), np.array(centers_results)  # (n,) and (n, K_MEDOID_LENGTH)"
   ]
  },
  {
   "cell_type": "markdown",
   "metadata": {
    "id": "8ECjTbE4gn42"
   },
   "source": [
    "#create a df for applying tableone"
   ]
  },
  {
   "cell_type": "code",
   "execution_count": 12,
   "metadata": {
    "id": "PEu3jTpRXEr1"
   },
   "outputs": [],
   "source": [
    "# metrics could be like entropy or avg intracluster distance\n",
    "def create_features_df(file_list, metrics=None):\n",
    "    trial = [file[0] for file in file_list]\n",
    "    synthetic = [file[2] for file in file_list]\n",
    "\n",
    "    sex = [file.split(\"_\")[4][0] for file in file_list]\n",
    "    age = [file.split(\"_\")[4][1] for file in file_list]\n",
    "    treatment = [file.split(\"_\")[4][2] for file in file_list]\n",
    "    tir = [file.split(\"_\")[4][3] for file in file_list]\n",
    "    # d = {'col1': [1, 2], 'col2': [3, 4]}\n",
    "    d = {\n",
    "        \"trial\": trial,\n",
    "        \"synthetic\": synthetic,\n",
    "        \"sex\": sex,\n",
    "        \"age\": age,\n",
    "        \"treatment\": treatment,\n",
    "        \"tir\": tir,\n",
    "    }\n",
    "    if metrics is not None:\n",
    "        d.update(metrics)\n",
    "\n",
    "    df = pd.DataFrame(d)\n",
    "    return df"
   ]
  },
  {
   "cell_type": "markdown",
   "metadata": {
    "id": "36rk4VkyVfm2"
   },
   "source": [
    "#draw histogram"
   ]
  },
  {
   "cell_type": "code",
   "execution_count": 13,
   "metadata": {
    "id": "4tDf6B_uBqLT"
   },
   "outputs": [],
   "source": [
    "import matplotlib.pyplot as plt\n",
    "import seaborn as sns\n",
    "\n",
    "\n",
    "def draw_histogram(set_array, colors, subset_num):\n",
    "    # Flatten all motif ids for each group\n",
    "    group_flattened = []\n",
    "    for group in set_array:\n",
    "        group_flat = [\n",
    "            item\n",
    "            for case in group\n",
    "            for item in (case if isinstance(case, (list, np.ndarray)) else [case])\n",
    "        ]\n",
    "        group_flattened.append(np.array(group_flat).flatten())\n",
    "\n",
    "    # Find all unique values across all groups\n",
    "    all_values = np.concatenate(group_flattened)\n",
    "    unique_values = np.unique(all_values)\n",
    "    print(\"unique_clusters: \", unique_values)\n",
    "\n",
    "    bin_width = 0.8\n",
    "    offsets = np.linspace(-bin_width / 2, bin_width / 2, subset_num)\n",
    "\n",
    "    plt.figure(figsize=(16, 6))\n",
    "    for i in range(subset_num):\n",
    "        # Shift data by offset\n",
    "        shifted_data = group_flattened[i] + offsets[i]\n",
    "\n",
    "        sns.histplot(\n",
    "            shifted_data,\n",
    "            bins=np.arange(min(unique_values), max(unique_values) + 2, 1),\n",
    "            kde=True,\n",
    "            stat=\"count\",\n",
    "            color=colors[i],\n",
    "            label=f\"Class {i}\",\n",
    "            alpha=0.5,\n",
    "            discrete=True,\n",
    "            kde_kws={\"bw_adjust\": 0.1},\n",
    "        )\n",
    "\n",
    "    plt.xticks(np.arange(min(unique_values), max(unique_values) + 1, 1))\n",
    "    plt.xlabel(\"Clusters\")\n",
    "    plt.ylabel(\"Frequency\")\n",
    "    plt.title(\"Histogram with KDE Curve by Subset\")\n",
    "    plt.legend()\n",
    "    plt.show()"
   ]
  },
  {
   "cell_type": "markdown",
   "metadata": {
    "id": "OE6PKGyFx6BP"
   },
   "source": [
    "#draw t-SNE"
   ]
  },
  {
   "cell_type": "code",
   "execution_count": 14,
   "metadata": {
    "id": "XWg6aH7ZBqLT"
   },
   "outputs": [],
   "source": [
    "from sklearn.manifold import TSNE\n",
    "\n",
    "\n",
    "def draw_tsne(set_array, subset_num):\n",
    "    # np_array: list of groups, each group is a list of arrays (cases), each array shape (days, MOTIF_LENGTH)\n",
    "    # Flatten all cases in each group\n",
    "    group_flattened = []\n",
    "    for group in set_array:\n",
    "        # group: list of arrays (cases)\n",
    "        group_flat = []\n",
    "        for case in group:\n",
    "            case = np.array(case)  # (days, MOTIF_LENGTH)\n",
    "\n",
    "            if case.ndim == 1:\n",
    "                group_flat.append(case)\n",
    "            else:\n",
    "                group_flat.extend(case)\n",
    "\n",
    "        group_flattened.append(np.array(group_flat))\n",
    "\n",
    "    # Concatenate all groups for t-SNE\n",
    "    data = np.concatenate(group_flattened, axis=0)\n",
    "    labels = np.concatenate(\n",
    "        [np.full(len(group_flattened[i]), i) for i in range(subset_num)]\n",
    "    )\n",
    "\n",
    "    # Apply t-SNE\n",
    "    tsne = TSNE(\n",
    "        n_components=2, random_state=42, perplexity=min(data.shape[0] * 0.3, 30)\n",
    "    )\n",
    "    tsne_result = tsne.fit_transform(data)\n",
    "\n",
    "    # Plot t-SNE results\n",
    "    plt.figure(figsize=(8, 6))\n",
    "    for i in range(subset_num):\n",
    "        plt.scatter(\n",
    "            tsne_result[labels == i, 0], tsne_result[labels == i, 1], label=f\"Class {i}\"\n",
    "        )\n",
    "\n",
    "    plt.xlabel(\"t-SNE Component 1\")\n",
    "    plt.ylabel(\"t-SNE Component 2\")\n",
    "    plt.title(\"t-SNE Visualization of Cases\")\n",
    "    plt.legend()\n",
    "    plt.show()"
   ]
  },
  {
   "cell_type": "markdown",
   "metadata": {
    "id": "Epkw9CyBex43"
   },
   "source": [
    "#apply pca for parallel"
   ]
  },
  {
   "cell_type": "code",
   "execution_count": 15,
   "metadata": {
    "id": "P8Dx7uHdexQR"
   },
   "outputs": [],
   "source": [
    "def apply_pca(pca, X):\n",
    "    return pca.transform(X)"
   ]
  },
  {
   "cell_type": "code",
   "execution_count": 16,
   "metadata": {},
   "outputs": [
    {
     "name": "stdout",
     "output_type": "stream",
     "text": [
      "/home/rowan/Desktop/ProjectFiles/evaluation_models\n"
     ]
    }
   ],
   "source": [
    "print(os.getcwd())"
   ]
  },
  {
   "cell_type": "markdown",
   "metadata": {
    "id": "UwbQcn5PbFEj"
   },
   "source": [
    "#the following is the application code"
   ]
  },
  {
   "cell_type": "markdown",
   "metadata": {
    "id": "H2uNA0_cg6U6"
   },
   "source": [
    "#for you to know--part1: file format and labels\n",
    "\n",
    "\n",
    "\n",
    "{trial_first_character}_ {synthetic} _ {id} _ {segment} _ {(sex)(age)(treatment)(tir)}\n",
    "\n",
    "sex: {1: F, 2: M, 9: missing}\n",
    "\n",
    "age: {0: <10, 1: <20, 2: <65, 3:>=65, 9: missing}\n",
    "\n",
    "treatment: {0: MDI, 1: basic pump, 2: SAP, 3: CLP, 4, BP, 9: missing}\n",
    "\n",
    "tir: {0: >90, 1: >70, 2: >50, 3: <=50, 9: missing}"
   ]
  },
  {
   "cell_type": "markdown",
   "metadata": {
    "id": "nTu48M75-Kgt"
   },
   "source": [
    "#for you to know--part2: my idea about evaluation\n",
    "\n",
    "for the test, i prepare two types of models. the first ones are motifs based models and the second ones are k medoids models.\n",
    "\n",
    "i trained two types of models in respect to both single source and multi source datasets. so at final you would have 4 models in total.\n",
    "\n",
    "**testset**\n",
    "each test sample contains a group of 7 days data which are almost consecutive (but not definite).\n",
    "\n",
    "**objectives**\n",
    "\n",
    "1.   **to evaluate diversity of patterns of each subject**\n",
    "\n",
    "for this object, my plan is to use entropy and mean distance between returned motifs from a segment belongs to a subject. you will apply each segment to \"my_entropy\" and \"avg_intra_cluster_distance\" and each segment should have a single value returned. the final shape should be like(sample_numb, 1)=(sample_numb, ) for a sampled set. because each segment has only one feature, we can apply Kolmogorov-Smirnov test (a nonparametric two sample test) for statistics evaluation.\n",
    "\n",
    "2.   **to evaluate similarity of patterns between two groups**\n",
    "\n",
    "  *   **1st method**:  each segment would have 7 motifs returned. we treat each segment as having 7 features. the shape of each group would be (sample_num, 7). the problem would becomes a multivariate two sample test. we thus use the MMD to evaluate the discrepancy.\n",
    "  \n",
    "      We also want to use the same method to evaluate the returned centers, but since returned centers are time series with length, the returned features are 2d instead of 1d. In this case, we apply PCA to compress the 2d features to 1d features and apply MMD.\n",
    "\n",
    "      in the 1st method, the order of returned clusters matters.\n",
    "\n",
    "  *  **2nd method**:  another method is to flatten returned motifs from a segment. makes each group's data to change from (sample_num, 7) to (sample_num*7, ). In this case, we could apply Kolmogorov-Smirnov test.\n",
    "  \n",
    "      And also for returned barycenters, if we apply the same flatten method, the final shape would be like (sample_num*7, ts_length) and apply MMD to evaluate.\n",
    "\n",
    "      in the 2nd method, which segment the returned clusters belong to or order of the returned clusters do not matter. what we want to see, is the distribution of the overall clusters of a group."
   ]
  },
  {
   "cell_type": "markdown",
   "metadata": {
    "id": "bcG5s9UbIK8k"
   },
   "source": [
    "unzip your test folder if needed\n",
    "and load you motifs pickles and hyperparameters"
   ]
  },
  {
   "cell_type": "code",
   "execution_count": 17,
   "metadata": {
    "id": "eQRDf7NELrPo"
   },
   "outputs": [],
   "source": [
    "# TODO: put myf.py, test_folders, motif pickle, k_medoid pickle and two pca pickles in your executive folder\n",
    "\n",
    "# multi source model path\n",
    "multi_motif_path = \"9.236420021787648_3.694568008715059_multi_motifs.pkl\"\n",
    "multi_k_medoid_path = \"k_medoids_multi_5.203641425222681_157.pkl\"\n",
    "\n",
    "# single source model\n",
    "single_motif_path = \"10.24240116345082_4.096960465380328_single_motifs.pkl\"\n",
    "single_k_medoid_path = \"k_medoids_single_5.705711839785382_157.pkl\"\n",
    "\n",
    "# pca path\n",
    "multi_motif_pca_path = \"multi_motifs_pca_model.pkl\"\n",
    "multi_k_medoid_pca_path = \"multi_k_medoids_pca_model.pkl\"\n",
    "single_motif_pca_path = \"single_motifs_pca_model.pkl\"\n",
    "single_k_medoid_pca_path = \"single_k_medoids_pca_model.pkl\"\n",
    "\n",
    "\n",
    "# load motif and k_medoid\n",
    "with open(multi_motif_path, \"rb\") as f:\n",
    "    multi_motif = pickle.load(f)\n",
    "\n",
    "with open(multi_k_medoid_path, \"rb\") as f:\n",
    "    multi_k_medoid = pickle.load(f)\n",
    "\n",
    "with open(single_motif_path, \"rb\") as f:\n",
    "    single_motif = pickle.load(f)\n",
    "\n",
    "with open(single_k_medoid_path, \"rb\") as f:\n",
    "    single_k_medoid = pickle.load(f)\n",
    "\n",
    "\n",
    "# hyperparameters for motifs and k_medoids\n",
    "multi_tau = float(multi_motif_path.split(\"_\")[1])\n",
    "multi_threshold = float(multi_k_medoid_path.split(\"_\")[3])\n",
    "single_tau = float(single_motif_path.split(\"_\")[1])\n",
    "single_threshold = float(single_k_medoid_path.split(\"_\")[3])\n",
    "\n",
    "# load pca\n",
    "with open(multi_motif_pca_path, \"rb\") as f:\n",
    "    multi_motif_pca = pickle.load(f)\n",
    "with open(multi_k_medoid_pca_path, \"rb\") as f:\n",
    "    multi_k_medoid_pca = pickle.load(f)\n",
    "with open(single_motif_pca_path, \"rb\") as f:\n",
    "    single_motif_pca = pickle.load(f)\n",
    "with open(single_k_medoid_pca_path, \"rb\") as f:\n",
    "    single_k_medoid_pca = pickle.load(f)\n",
    "\n",
    "\n",
    "# load file list for single and multi\n",
    "single_folder = \"final_single_test\"\n",
    "single_file_list = os.listdir(single_folder)\n",
    "multi_folder = \"final_multi_test\"\n",
    "multi_file_list = os.listdir(multi_folder)"
   ]
  },
  {
   "cell_type": "code",
   "execution_count": 18,
   "metadata": {
    "id": "1JcX47QxBqLV",
    "outputId": "795872be-dba4-41f2-a7ab-8afbd7454279"
   },
   "outputs": [
    {
     "name": "stdout",
     "output_type": "stream",
     "text": [
      "sample_num:  16065\n"
     ]
    }
   ],
   "source": [
    "whole_multi_dataset = get_samples(\n",
    "    multi_file_list, sample_num=len(multi_file_list)\n",
    ")  # sample_num=multi_file_subject_num, 1\n",
    "whole_multi_dataset = np.squeeze(whole_multi_dataset)\n",
    "whole_multi_df = create_features_df(whole_multi_dataset)\n",
    "# TODO: you can use whole_multi_df to decide your sample_num and groups you want to evaluate"
   ]
  },
  {
   "cell_type": "code",
   "execution_count": 19,
   "metadata": {
    "id": "dleEk-MbBqLV",
    "outputId": "d17821b0-dced-4065-e60f-43e4524c9ff4"
   },
   "outputs": [
    {
     "name": "stdout",
     "output_type": "stream",
     "text": [
      "sample_num:  22192\n"
     ]
    }
   ],
   "source": [
    "whole_single_dataset = get_samples(\n",
    "    single_file_list, sample_num=len(single_file_list)\n",
    ")  # sample_num=multi_file_subject_num, 1\n",
    "whole_single_dataset = np.squeeze(whole_single_dataset)\n",
    "whole_single_df = create_features_df(whole_single_dataset)\n",
    "# TODO: you can use whole_single_df to decide your sample_num and groups you want to evaluate"
   ]
  },
  {
   "cell_type": "markdown",
   "metadata": {
    "id": "JOiZxHh3L1Vj"
   },
   "source": [
    "# **task1:** evaluate subject level cgm pattern diversity(motifs diversity) with respect to certain labels (ex. age, tir...)\n",
    "\n",
    "use single source motif results\n",
    "\n",
    "consider evaluate with respect to age groups / tir groups\n",
    "\n",
    "we suspect in subject level, the diversity of child adolescent will be larger than elders? or as tir decrease, the diversity will increase?\n",
    "\n",
    "the following code use age groups as an example"
   ]
  },
  {
   "cell_type": "code",
   "execution_count": 62,
   "metadata": {
    "colab": {
     "base_uri": "https://localhost:8080/"
    },
    "executionInfo": {
     "elapsed": 106,
     "status": "ok",
     "timestamp": 1748258836116,
     "user": {
      "displayName": "So Dude",
      "userId": "04035097424418043678"
     },
     "user_tz": -480
    },
    "id": "Cojz4mRDFJPh",
    "outputId": "b9f0435c-6259-4cfb-dafe-09498b4b83f4"
   },
   "outputs": [
    {
     "name": "stdout",
     "output_type": "stream",
     "text": [
      "sample_num:  5\n",
      "sample_num:  5\n",
      "sample_num:  5\n"
     ]
    }
   ],
   "source": [
    "# TODO: try change sample_num, group\n",
    "\n",
    "sample_num = 5  # random pick subject num\n",
    "\n",
    "age_group = [0, 1, 2, 3]\n",
    "\n",
    "entropy_samples = []\n",
    "\n",
    "for age in age_group:\n",
    "    # get subset of each age group in this case\n",
    "    entropy_samples.append(\n",
    "        get_samples(\n",
    "            single_file_list,\n",
    "            sample_num=sample_num,\n",
    "            age=age,\n",
    "        )\n",
    "    )  # each entry shape (sample_num, random_pick_num)"
   ]
  },
  {
   "cell_type": "code",
   "execution_count": 63,
   "metadata": {
    "id": "adUYaTbQMMa8"
   },
   "outputs": [],
   "source": [
    "# remove entropy_sample which is None\n",
    "\n",
    "entropy_samples = [sample for sample in entropy_samples if sample is not None]\n",
    "# TODO: please make sure for each entropy_sample in entropy_samples, the returned shape are the same\n",
    "\n",
    "sample_num = entropy_samples[0].shape[0]  # real sample_num\n",
    "\n",
    "entropy_datas = []\n",
    "# enumerate through each group and get sampled data\n",
    "for i in range(len(entropy_samples)):\n",
    "    # entropy_sample[i]: sample_num, 1\n",
    "\n",
    "    entropy_data = Parallel(n_jobs=-1)(\n",
    "        delayed(load_time_series)(segment, single_folder)\n",
    "        for sample in entropy_samples[i]\n",
    "        for segment in sample\n",
    "    )  # len(sample_nums) with each entry (7, MOTIF_LENGTH)\n",
    "\n",
    "    entropy_data = np.array(entropy_data).reshape(\n",
    "        sample_num, -1, MOTIF_LENGTH\n",
    "    )  # sample_num, 7, MOTIF_LENGTH\n",
    "\n",
    "    entropy_datas.append(entropy_data)"
   ]
  },
  {
   "cell_type": "code",
   "execution_count": 66,
   "metadata": {
    "colab": {
     "base_uri": "https://localhost:8080/"
    },
    "executionInfo": {
     "elapsed": 66238,
     "status": "ok",
     "timestamp": 1748259480458,
     "user": {
      "displayName": "So Dude",
      "userId": "04035097424418043678"
     },
     "user_tz": -480
    },
    "id": "u2lOkcPEVEOo",
    "outputId": "d00183bb-02b9-4c41-f267-33c7cbc92938"
   },
   "outputs": [
    {
     "ename": "KeyboardInterrupt",
     "evalue": "",
     "output_type": "error",
     "traceback": [
      "\u001b[0;31m---------------------------------------------------------------------------\u001b[0m",
      "\u001b[0;31mKeyboardInterrupt\u001b[0m                         Traceback (most recent call last)",
      "Cell \u001b[0;32mIn[66], line 9\u001b[0m\n\u001b[1;32m      4\u001b[0m k_medoid_intra_sample_dist_list \u001b[38;5;241m=\u001b[39m []\n\u001b[1;32m      6\u001b[0m \u001b[38;5;28;01mfor\u001b[39;00m entropy_data \u001b[38;5;129;01min\u001b[39;00m entropy_datas:\n\u001b[1;32m      7\u001b[0m \n\u001b[1;32m      8\u001b[0m     \u001b[38;5;66;03m# apply parrallel motifs clustering to each case in a certain group\u001b[39;00m\n\u001b[0;32m----> 9\u001b[0m     motif_results \u001b[38;5;241m=\u001b[39m \u001b[43mParallel\u001b[49m\u001b[43m(\u001b[49m\u001b[43mn_jobs\u001b[49m\u001b[38;5;241;43m=\u001b[39;49m\u001b[38;5;241;43m2\u001b[39;49m\u001b[43m)\u001b[49m\u001b[43m(\u001b[49m\n\u001b[1;32m     10\u001b[0m \u001b[43m        \u001b[49m\u001b[43mdelayed\u001b[49m\u001b[43m(\u001b[49m\u001b[43mapply_motifs\u001b[49m\u001b[43m)\u001b[49m\u001b[43m(\u001b[49m\u001b[43msingle_motif\u001b[49m\u001b[43m,\u001b[49m\u001b[43m \u001b[49m\u001b[43msingle_tau\u001b[49m\u001b[43m,\u001b[49m\u001b[43m \u001b[49m\u001b[43msample\u001b[49m\u001b[43m)\u001b[49m\n\u001b[1;32m     11\u001b[0m \u001b[43m        \u001b[49m\u001b[38;5;28;43;01mfor\u001b[39;49;00m\u001b[43m \u001b[49m\u001b[43msample\u001b[49m\u001b[43m \u001b[49m\u001b[38;5;129;43;01min\u001b[39;49;00m\u001b[43m \u001b[49m\u001b[43mentropy_data\u001b[49m\n\u001b[1;32m     12\u001b[0m \u001b[43m    \u001b[49m\u001b[43m)\u001b[49m  \u001b[38;5;66;03m# len(sample_nums)\u001b[39;00m\n\u001b[1;32m     14\u001b[0m     motif_ids, motif_barycenters \u001b[38;5;241m=\u001b[39m \u001b[38;5;28mzip\u001b[39m(\u001b[38;5;241m*\u001b[39mmotif_results)\n\u001b[1;32m     15\u001b[0m     \u001b[38;5;66;03m# shape(sample_nums, 7), (sample_nums, 7, MOTIF_LENGTH)\u001b[39;00m\n",
      "File \u001b[0;32m~/miniconda3/envs/retry/lib/python3.9/site-packages/joblib/parallel.py:2007\u001b[0m, in \u001b[0;36mParallel.__call__\u001b[0;34m(self, iterable)\u001b[0m\n\u001b[1;32m   2001\u001b[0m \u001b[38;5;66;03m# The first item from the output is blank, but it makes the interpreter\u001b[39;00m\n\u001b[1;32m   2002\u001b[0m \u001b[38;5;66;03m# progress until it enters the Try/Except block of the generator and\u001b[39;00m\n\u001b[1;32m   2003\u001b[0m \u001b[38;5;66;03m# reaches the first `yield` statement. This starts the asynchronous\u001b[39;00m\n\u001b[1;32m   2004\u001b[0m \u001b[38;5;66;03m# dispatch of the tasks to the workers.\u001b[39;00m\n\u001b[1;32m   2005\u001b[0m \u001b[38;5;28mnext\u001b[39m(output)\n\u001b[0;32m-> 2007\u001b[0m \u001b[38;5;28;01mreturn\u001b[39;00m output \u001b[38;5;28;01mif\u001b[39;00m \u001b[38;5;28mself\u001b[39m\u001b[38;5;241m.\u001b[39mreturn_generator \u001b[38;5;28;01melse\u001b[39;00m \u001b[38;5;28;43mlist\u001b[39;49m\u001b[43m(\u001b[49m\u001b[43moutput\u001b[49m\u001b[43m)\u001b[49m\n",
      "File \u001b[0;32m~/miniconda3/envs/retry/lib/python3.9/site-packages/joblib/parallel.py:1650\u001b[0m, in \u001b[0;36mParallel._get_outputs\u001b[0;34m(self, iterator, pre_dispatch)\u001b[0m\n\u001b[1;32m   1647\u001b[0m     \u001b[38;5;28;01myield\u001b[39;00m\n\u001b[1;32m   1649\u001b[0m     \u001b[38;5;28;01mwith\u001b[39;00m \u001b[38;5;28mself\u001b[39m\u001b[38;5;241m.\u001b[39m_backend\u001b[38;5;241m.\u001b[39mretrieval_context():\n\u001b[0;32m-> 1650\u001b[0m         \u001b[38;5;28;01myield from\u001b[39;00m \u001b[38;5;28mself\u001b[39m\u001b[38;5;241m.\u001b[39m_retrieve()\n\u001b[1;32m   1652\u001b[0m \u001b[38;5;28;01mexcept\u001b[39;00m \u001b[38;5;167;01mGeneratorExit\u001b[39;00m:\n\u001b[1;32m   1653\u001b[0m     \u001b[38;5;66;03m# The generator has been garbage collected before being fully\u001b[39;00m\n\u001b[1;32m   1654\u001b[0m     \u001b[38;5;66;03m# consumed. This aborts the remaining tasks if possible and warn\u001b[39;00m\n\u001b[1;32m   1655\u001b[0m     \u001b[38;5;66;03m# the user if necessary.\u001b[39;00m\n\u001b[1;32m   1656\u001b[0m     \u001b[38;5;28mself\u001b[39m\u001b[38;5;241m.\u001b[39m_exception \u001b[38;5;241m=\u001b[39m \u001b[38;5;28;01mTrue\u001b[39;00m\n",
      "File \u001b[0;32m~/miniconda3/envs/retry/lib/python3.9/site-packages/joblib/parallel.py:1762\u001b[0m, in \u001b[0;36mParallel._retrieve\u001b[0;34m(self)\u001b[0m\n\u001b[1;32m   1757\u001b[0m \u001b[38;5;66;03m# If the next job is not ready for retrieval yet, we just wait for\u001b[39;00m\n\u001b[1;32m   1758\u001b[0m \u001b[38;5;66;03m# async callbacks to progress.\u001b[39;00m\n\u001b[1;32m   1759\u001b[0m \u001b[38;5;28;01mif\u001b[39;00m ((\u001b[38;5;28mlen\u001b[39m(\u001b[38;5;28mself\u001b[39m\u001b[38;5;241m.\u001b[39m_jobs) \u001b[38;5;241m==\u001b[39m \u001b[38;5;241m0\u001b[39m) \u001b[38;5;129;01mor\u001b[39;00m\n\u001b[1;32m   1760\u001b[0m     (\u001b[38;5;28mself\u001b[39m\u001b[38;5;241m.\u001b[39m_jobs[\u001b[38;5;241m0\u001b[39m]\u001b[38;5;241m.\u001b[39mget_status(\n\u001b[1;32m   1761\u001b[0m         timeout\u001b[38;5;241m=\u001b[39m\u001b[38;5;28mself\u001b[39m\u001b[38;5;241m.\u001b[39mtimeout) \u001b[38;5;241m==\u001b[39m TASK_PENDING)):\n\u001b[0;32m-> 1762\u001b[0m     \u001b[43mtime\u001b[49m\u001b[38;5;241;43m.\u001b[39;49m\u001b[43msleep\u001b[49m\u001b[43m(\u001b[49m\u001b[38;5;241;43m0.01\u001b[39;49m\u001b[43m)\u001b[49m\n\u001b[1;32m   1763\u001b[0m     \u001b[38;5;28;01mcontinue\u001b[39;00m\n\u001b[1;32m   1765\u001b[0m \u001b[38;5;66;03m# We need to be careful: the job list can be filling up as\u001b[39;00m\n\u001b[1;32m   1766\u001b[0m \u001b[38;5;66;03m# we empty it and Python list are not thread-safe by\u001b[39;00m\n\u001b[1;32m   1767\u001b[0m \u001b[38;5;66;03m# default hence the use of the lock\u001b[39;00m\n",
      "\u001b[0;31mKeyboardInterrupt\u001b[0m: "
     ]
    }
   ],
   "source": [
    "motif_entropy_list = []\n",
    "motif_intra_sample_dist_list = []\n",
    "k_medoid_entropy_list = []\n",
    "k_medoid_intra_sample_dist_list = []\n",
    "\n",
    "for entropy_data in entropy_datas:\n",
    "\n",
    "    # apply parrallel motifs clustering to each case in a certain group\n",
    "    motif_results = Parallel(n_jobs=2)(\n",
    "        delayed(apply_motifs)(single_motif, single_tau, sample)\n",
    "        for sample in entropy_data\n",
    "    )  # len(sample_nums)\n",
    "\n",
    "    motif_ids, motif_barycenters = zip(*motif_results)\n",
    "    # shape(sample_nums, 7), (sample_nums, 7, MOTIF_LENGTH)\n",
    "    motif_ids = np.array(motif_ids)\n",
    "    motif_barycenters = np.array(motif_barycenters)\n",
    "    print(motif_ids.shape)\n",
    "    print(motif_barycenters.shape)\n",
    "\n",
    "    entropy_result = Parallel(n_jobs=2)(\n",
    "        delayed(my_entropy)(sample) for sample in motif_ids\n",
    "    )  # (sample_num, ), each sampled subject has an entropy\n",
    "    motif_entropy_list.append(entropy_result)  # (group_num, sample_nums)\n",
    "\n",
    "    intra_sample_dist_result = Parallel(n_jobs=2)(\n",
    "        delayed(avg_intra_cluster_distance)(sample) for sample in motif_barycenters\n",
    "    )  # (sample_num, ), each sampled subject has an intra_subject_dist\n",
    "    motif_intra_sample_dist_list.append(\n",
    "        intra_sample_dist_result\n",
    "    )  # (group_num, sample_nums)\n",
    "\n",
    "    \"\"\"do the same thing for k_medoid\"\"\"\n",
    "    k_medoid_results = Parallel(n_jobs=2)(\n",
    "        delayed(apply_k_medoids)(single_threshold, sample, single_k_medoid)\n",
    "        for sample in entropy_data\n",
    "    )  # len(sample_nums)\n",
    "    k_medoid_ids, k_medoid_barycenters = zip(*k_medoid_results)\n",
    "    # shape(sample_nums, 7), (sample_nums, 7, K_MEDOID_LENGTH)\n",
    "    k_medoid_ids = np.array(k_medoid_ids)\n",
    "    k_medoid_barycenters = np.array(k_medoid_barycenters)\n",
    "    print(k_medoid_ids.shape)\n",
    "    print(k_medoid_barycenters.shape)\n",
    "\n",
    "    k_medoid_entropy_result = Parallel(n_jobs=2)(\n",
    "        delayed(my_entropy)(sample) for sample in k_medoid_ids\n",
    "    )  # (sample_num, )\n",
    "    k_medoid_entropy_list.append(k_medoid_entropy_result)  # (group_num, sample_nums)\n",
    "\n",
    "    k_medoid_intra_sample_dist_result = Parallel(n_jobs=2)(\n",
    "        delayed(avg_intra_cluster_distance)(sample) for sample in k_medoid_barycenters\n",
    "    )  # (sample_num, )\n",
    "    k_medoid_intra_sample_dist_list.append(\n",
    "        k_medoid_intra_sample_dist_result\n",
    "    )  # (group_num, sample_nums)\n",
    "\n",
    "# each subject may have multiple segment, but their demographics are the same\n",
    "flatten_features = [\n",
    "    sample[0] for entropy_sample in entropy_samples for sample in entropy_sample\n",
    "]\n",
    "flatten_motif_entropy = [\n",
    "    entropy for entropys in motif_entropy_list for entropy in entropys\n",
    "]\n",
    "flatten_motif_intra_sample_dist = [\n",
    "    intra_sample_dist\n",
    "    for intra_sample_dists in motif_intra_sample_dist_list\n",
    "    for intra_sample_dist in intra_sample_dists\n",
    "]\n",
    "flatten_k_medoid_entropy = [\n",
    "    entropy for entropys in k_medoid_entropy_list for entropy in entropys\n",
    "]\n",
    "flatten_k_medoid_intra_sample_dist = [\n",
    "    intra_sample_dist\n",
    "    for intra_sample_dists in k_medoid_intra_sample_dist_list\n",
    "    for intra_sample_dist in intra_sample_dists\n",
    "]"
   ]
  },
  {
   "cell_type": "code",
   "execution_count": null,
   "metadata": {
    "id": "JMucVrgPBqLW",
    "outputId": "da0816ee-2cff-4219-dc20-ccc6c12dd883"
   },
   "outputs": [],
   "source": [
    "diversity_df = create_features_df(\n",
    "    flatten_features,\n",
    "    {\n",
    "        \"motif_entropy\": flatten_motif_entropy,\n",
    "        \"motif_intra_sample_dist\": flatten_motif_intra_sample_dist,\n",
    "        \"k_medoid_entropy\": flatten_k_medoid_entropy,\n",
    "        \"k_medoid_intra_sample_dist\": flatten_k_medoid_intra_sample_dist,\n",
    "    },\n",
    ")\n",
    "# TODO: please draw tableone from diversity_df, groupby the groups you choose\n",
    "# TODO: you can also draw side by side boxplot\n",
    "# TODO: please do above to some of the age groups and tir groups\n",
    "\n",
    "n = len(motif_entropy_list)\n",
    "indices = list(combinations(range(n), 2))\n",
    "# TODO: apply two-sample Kolmogorov-Smirnov test for each pair of entropys and intra_sample_dist_result\n",
    "# TODO: the following code only implement KS test on entropy, please remember to apply it on intra_sample_dist\n",
    "# please evaluate the results\n",
    "for i, j in indices:\n",
    "    sample1 = motif_entropy_list[i]\n",
    "    sample2 = motif_entropy_list[j]\n",
    "    print(\n",
    "        f\"two-sample Kolmogorov-Smirnov test for group {i} and {j}: \",\n",
    "        stats.ks_2samp(sample1, sample2),\n",
    "    )"
   ]
  },
  {
   "cell_type": "markdown",
   "metadata": {
    "id": "uf6zkkoka7zE"
   },
   "source": [
    "# **task2-1:** if choose several different subsets from the group, will the pattern distribution of these subsets be very different? implies there is no obvious pattern trends in this group?\n",
    "\n",
    "use single source clusters here\n",
    "\n",
    "we assume for age group elderly, tir group >90% and >70%. the patterns from different subjects may not differ so much. Which means there are some representative patterns in this group.\n",
    "\n",
    "to evaluate pattern distribution based to labels(age, tir)\n",
    "\n",
    "first draw histogram and t-SNE of the distribution of the whole group(here we treat each day as a data sample)\n",
    "\n",
    "then choose 2-3 subset from the main group\n",
    "\n",
    "draw histogram again\n",
    "\n",
    "and draw tSNE\n",
    "\n",
    "calculate MMD for returned cluster ids and pca centers\n",
    "\n",
    "flatten returend ids and centers and calculate KS test and MMD for ids and centers\n",
    "\n",
    "and create df for viewing features, are there any signigicant features difference in subsets that might explain the difference?\n",
    "\n",
    "the following code take age group elderly(>=65) as an example"
   ]
  },
  {
   "cell_type": "code",
   "execution_count": 27,
   "metadata": {
    "id": "p9Acf93cVhSh"
   },
   "outputs": [],
   "source": [
    "# TODO: try change sample_num, group\n",
    "\n",
    "sample_num = 5  # random pick subject num\n",
    "\n",
    "age_group = [3, 3]"
   ]
  },
  {
   "cell_type": "code",
   "execution_count": 28,
   "metadata": {
    "id": "lz-8lR8dBqLX",
    "outputId": "695e2896-5412-4053-8560-ecce7eb498ad"
   },
   "outputs": [
    {
     "name": "stdout",
     "output_type": "stream",
     "text": [
      "sample_num:  5\n",
      "(5, 1)\n"
     ]
    }
   ],
   "source": [
    "# for visualization of whole elderly group\n",
    "whole_elderly = get_samples(\n",
    "    single_file_list,\n",
    "    sample_num=sample_num,\n",
    "    age=2,\n",
    ")  # (total_case_num, random_pick_num)\n",
    "\n",
    "print(whole_elderly.shape)"
   ]
  },
  {
   "cell_type": "code",
   "execution_count": null,
   "metadata": {
    "id": "tvi6gfS6JRvf"
   },
   "outputs": [],
   "source": [
    "sample_num = whole_elderly.shape[0]  # real sample_num\n",
    "\n",
    "# whole_elderly (total_case_num, 1)\n",
    "\n",
    "whole_elderly_datas = Parallel(n_jobs=-1)(\n",
    "    delayed(load_time_series)(segment, single_folder)\n",
    "    for sample in whole_elderly\n",
    "    for segment in sample\n",
    ")  # len(sample_nums) with each entry (7,MOTIF_NUM)\n",
    "\n",
    "whole_elderly_datas = np.array(whole_elderly_datas).reshape(\n",
    "    sample_num, -1, MOTIF_LENGTH\n",
    ")  # sample_num, 7, MOTIF_LENGTH"
   ]
  },
  {
   "cell_type": "code",
   "execution_count": null,
   "metadata": {
    "id": "B5WYtiLHJBNy"
   },
   "outputs": [],
   "source": [
    "# apply parrallel motifs clustering to each case in a certain group\n",
    "whole_elderly_motifs = Parallel(n_jobs=-1)(\n",
    "    delayed(apply_motifs)(single_motif, single_tau, sample)\n",
    "    for sample in whole_elderly_datas\n",
    ")  # len(sample_nums, )\n",
    "\n",
    "whole_elderly_motif_ids, whole_elderly_motif_barycenters = zip(*whole_elderly_motifs)\n",
    "# shape(sample_nums, 7), (sample_nums, 7, MOTIF_LENGTH)\n",
    "\n",
    "whole_elderly_motif_ids = np.array(whole_elderly_motif_ids)\n",
    "whole_elderly_motif_barycenters = np.array(whole_elderly_motif_barycenters)"
   ]
  },
  {
   "cell_type": "code",
   "execution_count": null,
   "metadata": {
    "id": "6PBnSrIfIfKy"
   },
   "outputs": [],
   "source": [
    "\"\"\"do the same thing for k_medoid\"\"\"\n",
    "\n",
    "whole_elderly_k_medoid = Parallel(n_jobs=-1)(\n",
    "    delayed(apply_k_medoids)(single_threshold, sample, single_k_medoid)\n",
    "    for sample in whole_elderly_datas\n",
    ")  # len(sample_nums)\n",
    "\n",
    "\n",
    "whole_elderly_k_medoid_ids, whole_elderly_k_medoid_barycenters = zip(\n",
    "    *whole_elderly_k_medoid\n",
    ")\n",
    "\n",
    "\n",
    "# shape(sample_nums, 7), (sample_nums, 7, MOTIF_LENGTH)\n",
    "\n",
    "\n",
    "whole_elderly_k_medoid_ids = np.array(whole_elderly_k_medoid_ids)\n",
    "\n",
    "\n",
    "whole_elderly_k_medoid_barycenters = np.array(whole_elderly_k_medoid_barycenters)"
   ]
  },
  {
   "cell_type": "code",
   "execution_count": null,
   "metadata": {
    "id": "ad6JAJE4ML4L",
    "outputId": "3263f48b-e30f-4dba-d14b-3aadff7b4315"
   },
   "outputs": [],
   "source": [
    "elderly_samples = []  # used the save different subset\n",
    "\n",
    "\n",
    "for age in age_group:\n",
    "\n",
    "    # choose three different subset from the elderly group\n",
    "\n",
    "    elderly_samples.append(\n",
    "        get_samples(\n",
    "            single_file_list,\n",
    "            sample_num=sample_num,\n",
    "            age=age,\n",
    "        )\n",
    "    )\n",
    "\n",
    "\n",
    "# TODO: please make sure for each elderly_samples[i], the returned shape are the same"
   ]
  },
  {
   "cell_type": "code",
   "execution_count": null,
   "metadata": {
    "id": "NLbms9u_M167"
   },
   "outputs": [],
   "source": [
    "# (elderly_samples[i], (samples_num, 1)\n",
    "sample_num = elderly_samples[0].shape[0]  # real sample_num\n",
    "\n",
    "elderly_samples_datas = []\n",
    "\n",
    "for i in range(len(elderly_samples)):\n",
    "\n",
    "    elderly_samples_data = Parallel(n_jobs=-1)(\n",
    "        delayed(load_time_series)(segment, single_folder)\n",
    "        for sample in elderly_samples[i]\n",
    "        for segment in sample\n",
    "    )  # len(samples_num) with each entry (7,MOTIF_NUM)\n",
    "\n",
    "    elderly_samples_data = np.array(elderly_samples_data).reshape(\n",
    "        sample_num, -1, MOTIF_LENGTH\n",
    "    )  # sample_num, 7, MOTIF_LENGTH\n",
    "    elderly_samples_datas.append(elderly_samples_data)"
   ]
  },
  {
   "cell_type": "code",
   "execution_count": null,
   "metadata": {
    "id": "Sq6fT2g_HjSR"
   },
   "outputs": [],
   "source": [
    "grouped_motif_ids = [whole_elderly_motif_ids]\n",
    "grouped_motif_barycenters = [whole_elderly_motif_barycenters]\n",
    "grouped_k_medoid_ids = [whole_elderly_k_medoid_ids]\n",
    "grouped_k_medoid_barycenters = [whole_elderly_k_medoid_barycenters]\n",
    "\n",
    "for elderly_samples_data in elderly_samples_datas:\n",
    "\n",
    "    # apply parrallel motifs clustering to each case in a certain group\n",
    "    motif_results = Parallel(n_jobs=-1)(\n",
    "        delayed(apply_motifs)(single_motif, single_tau, sample)\n",
    "        for sample in elderly_samples_data\n",
    "    )  # len(samples_num)\n",
    "    motif_ids, motifs_barycenters = zip(*motif_results)\n",
    "    # shape(samples_num, 7), (sample_nums, 7, MOTIF_NUM)\n",
    "    motif_ids = np.array(motif_ids)  # (sample_nums, 7)\n",
    "    motifs_barycenters = np.array(motifs_barycenters)  # (sample_nums, 7, MOTIF_NUM)\n",
    "\n",
    "    grouped_motif_ids.append(motif_ids)\n",
    "    grouped_motif_barycenters.append(motifs_barycenters)\n",
    "\n",
    "    \"\"\"do the same thing as above for k_medoid, change MOTIF_LENGTH to K_MEDOID_LENGTH\"\"\"\n",
    "    k_medoid_results = Parallel(n_jobs=-1)(\n",
    "        delayed(apply_k_medoids)(single_threshold, sample, single_k_medoid)\n",
    "        for sample in elderly_samples_data\n",
    "    )  # len(samples_num)\n",
    "    k_medoid_ids, k_medoid_barycenters = zip(*k_medoid_results)\n",
    "\n",
    "    k_medoid_ids = np.array(k_medoid_ids)  # shape(samples_num, 7)\n",
    "    k_medoid_barycenters = np.array(\n",
    "        k_medoid_barycenters\n",
    "    )  # shape(samples_num, 7, K_MEDOID_NUM)\n",
    "\n",
    "    grouped_k_medoid_ids.append(k_medoid_ids)\n",
    "    grouped_k_medoid_barycenters.append(k_medoid_barycenters)"
   ]
  },
  {
   "cell_type": "code",
   "execution_count": null,
   "metadata": {
    "id": "Hu64zRs5BqLe",
    "outputId": "4305efb6-ff98-4140-f9d3-dd7df05b1ef9"
   },
   "outputs": [],
   "source": [
    "# draw histogram\n",
    "# TODO: if you find your bars not aligned well with the unique clusters:\n",
    "# try modify offsets = np.linspace(-bin_width / 2, bin_width / 2, subset_num) code in draw_histogram function\n",
    "# modify the number until aligned well\n",
    "# TODO: if there are too many classes, if may be hard to visualize, you can try visualize subsets of grouped_motif_ids\n",
    "# like seperately draw histogram for grouped_motif_ids[0] and others\n",
    "# TODO: if kde lines do not look right, try adjust kde_kws={\"bw_adjust\": 0.1},\n",
    "# TODO: evaluate the plot, you also need to evalute the result between whole elderly set and the subsets\n",
    "draw_histogram(\n",
    "    grouped_motif_ids,\n",
    "    css4_colors[:4],\n",
    "    len(grouped_motif_ids),\n",
    ")"
   ]
  },
  {
   "cell_type": "code",
   "execution_count": null,
   "metadata": {
    "id": "TDfphSQUBqLe",
    "outputId": "17da3697-dec2-4e98-90ce-ba04ce16e3a2"
   },
   "outputs": [],
   "source": [
    "# draw tsne\n",
    "# TODO: evaluate the plot\n",
    "# TODO: if it is hard to visualize, you can draw tsne seperately for subsets of grouped_motif_barycenters\n",
    "# like draw grouped_motif_barycenters[0] and others seperately\n",
    "draw_tsne(\n",
    "    grouped_motif_barycenters,\n",
    "    len(grouped_motif_barycenters),\n",
    ")"
   ]
  },
  {
   "cell_type": "code",
   "execution_count": null,
   "metadata": {
    "id": "B0JuqtF9BqLf",
    "outputId": "7cccb19f-dee2-4e33-b316-cc5aca3fedbe"
   },
   "outputs": [],
   "source": [
    "# TODO: evaluate the ploy\n",
    "draw_histogram(grouped_k_medoid_ids, css4_colors[:4], len(grouped_k_medoid_ids))"
   ]
  },
  {
   "cell_type": "code",
   "execution_count": null,
   "metadata": {
    "id": "O9bCWmTZBqLf",
    "outputId": "dd401161-48df-4016-e593-a95d2f28db5a"
   },
   "outputs": [],
   "source": [
    "# TODO: evaluate the plot\n",
    "draw_tsne(\n",
    "    grouped_k_medoid_barycenters,\n",
    "    len(grouped_k_medoid_barycenters),\n",
    ")"
   ]
  },
  {
   "cell_type": "code",
   "execution_count": null,
   "metadata": {
    "id": "QuOMq2r4W_ad",
    "outputId": "56635fa4-af55-41d3-8abf-67d819521166"
   },
   "outputs": [],
   "source": [
    "# for returned motif_ids, calculate MMD between subsets\n",
    "# grouped_motif_ids (subset_num, sample_nums, 7)\n",
    "subset_grouped_motifs_id = np.array(grouped_motif_ids[1:])\n",
    "print(subset_grouped_motifs_id.shape)\n",
    "\n",
    "subset_grouped_motif_barycenters = np.array(grouped_motif_barycenters[1:])\n",
    "\n",
    "\"\"\"do the same thing as above for k_medoid, change MOTIF_LENGTH to K_MEDOID_LENGTH\"\"\"\n",
    "subset_grouped_k_medoid_ids = np.array(grouped_k_medoid_ids[1:])\n",
    "subset_grouped_k_medoid_barycenters = np.array(grouped_k_medoid_barycenters[1:])\n",
    "\n",
    "n = len(subset_grouped_motifs_id)\n",
    "indices = list(combinations(range(n), 2))\n",
    "\n",
    "# apply MMD test for each pair of subsets\n",
    "for i, j in indices:\n",
    "\n",
    "    sample1 = subset_grouped_motifs_id[i]  # (sample_nums, 7)\n",
    "    sample2 = subset_grouped_motifs_id[j]\n",
    "    # TODO: evalute the results\n",
    "    # the returend MMD metrics are MMD Score, p_value\n",
    "    print(\n",
    "        f\"MMD test for motif cluster ids distribution of subset {i} and {j}: \",\n",
    "        calculate_mmd(sample1, sample2),\n",
    "    )\n",
    "\n",
    "    centers_sample1 = subset_grouped_motif_barycenters[i]\n",
    "    # (sample_num, days, MOTIF_LENGTH)\n",
    "    centers_sample2 = subset_grouped_motif_barycenters[j]\n",
    "    # pca (days, MOTIF_LENGTH) -> ((days, only one features)\n",
    "\n",
    "    pca_centers_sample1 = Parallel(n_jobs=-1)(\n",
    "        delayed(apply_pca)(single_motif_pca, sample) for sample in centers_sample1\n",
    "    )  # len(samples_num)\n",
    "    pca_centers_sample1 = np.squeeze(\n",
    "        np.array(pca_centers_sample1)\n",
    "    )  # (sample_num, days)\n",
    "\n",
    "    pca_centers_sample2 = Parallel(n_jobs=-1)(\n",
    "        delayed(apply_pca)(single_motif_pca, sample) for sample in centers_sample2\n",
    "    )  # len(samples_num)\n",
    "    pca_centers_sample2 = np.squeeze(\n",
    "        np.array(pca_centers_sample2)\n",
    "    )  # (sample_num, days)\n",
    "\n",
    "    # TODO: evalute the results\n",
    "    print(\n",
    "        f\"MMD test for motif pca cluster barycenters distribution of subset {i} and {j}: \",\n",
    "        calculate_mmd(pca_centers_sample1, pca_centers_sample2),\n",
    "    )\n",
    "\n",
    "    # treat each day as a sample\n",
    "    flatten_sample1 = sample1.reshape(-1)  # (sample_nums*7)\n",
    "    flatten_sample2 = sample2.reshape(-1)\n",
    "    # TODO: evalute the results\n",
    "    print(\n",
    "        f\"KS test for motif ids distribution of subset {i} and {j}: \",\n",
    "        stats.ks_2samp(flatten_sample1, flatten_sample2),\n",
    "    )\n",
    "\n",
    "    # treat each day as a sample\n",
    "    flatten_centers_sample1 = centers_sample1.reshape(-1, MOTIF_LENGTH)\n",
    "    flatten_centers_sample2 = centers_sample2.reshape(-1, MOTIF_LENGTH)\n",
    "    # TODO: evalute the results\n",
    "    print(\n",
    "        f\"MMD test for motif flatten cluster barycenters distribution of subset {i} and {j}: \",\n",
    "        calculate_mmd(flatten_centers_sample1, flatten_centers_sample2),\n",
    "    )\n",
    "\n",
    "    \"\"\"do the same thing as above for k_medoid, change MOTIF_LENGTH to K_MEDOID_LENGTH\"\"\"\n",
    "    sample1 = subset_grouped_k_medoid_ids[i]\n",
    "    sample2 = subset_grouped_k_medoid_ids[j]\n",
    "    # TODO: evalute the results\n",
    "    print(\n",
    "        f\"MMD test for k medoid cluster ids distribution of subset {i} and {j}: \",\n",
    "        calculate_mmd(sample1, sample2),\n",
    "    )\n",
    "\n",
    "    centers_sample1 = subset_grouped_k_medoid_barycenters[i]\n",
    "    centers_sample2 = subset_grouped_k_medoid_barycenters[j]\n",
    "\n",
    "    pca_centers_sample1 = Parallel(n_jobs=-1)(\n",
    "        delayed(apply_pca)(single_k_medoid_pca, sample) for sample in centers_sample1\n",
    "    )  # len(samples_num)\n",
    "    pca_centers_sample1 = np.squeeze(\n",
    "        np.array(pca_centers_sample1)\n",
    "    )  # (sample_num, days)\n",
    "    pca_centers_sample2 = Parallel(n_jobs=-1)(\n",
    "        delayed(apply_pca)(single_k_medoid_pca, sample) for sample in centers_sample2\n",
    "    )  # len(samples_num)\n",
    "    pca_centers_sample2 = np.squeeze(\n",
    "        np.array(pca_centers_sample2)\n",
    "    )  # (sample_num, days)\n",
    "\n",
    "    # TODO: evalute the results\n",
    "    print(\n",
    "        f\"MMD test for k medoid pca cluster barycenters distribution of subset {i} and {j}: \",\n",
    "        calculate_mmd(pca_centers_sample1, pca_centers_sample2),\n",
    "    )\n",
    "\n",
    "    flatten_sample1 = sample1.reshape(-1)\n",
    "    flatten_sample2 = sample2.reshape(-1)\n",
    "    # TODO: evalute the results\n",
    "    print(\n",
    "        f\"KS test for k medoid ids distribution of subset {i} and {j}: \",\n",
    "        stats.ks_2samp(flatten_sample1, flatten_sample2),\n",
    "    )\n",
    "\n",
    "    flatten_centers_sample1 = centers_sample1.reshape(-1, K_MEDOID_LENGTH)\n",
    "    flatten_centers_sample2 = centers_sample2.reshape(-1, K_MEDOID_LENGTH)\n",
    "    # TODO: evalute the results\n",
    "    print(\n",
    "        f\"MMD test for k medoid flatten cluster barycenters distribution of subset {i} and {j}: \",\n",
    "        calculate_mmd(flatten_centers_sample1, flatten_centers_sample2),\n",
    "    )\n",
    "\n",
    "# TODO: try to apply above codes to different age groups and tir groups in single source dataset\n",
    "\n",
    "# take features table and evaluate if there is any significant differences in features that could explain the difference in subset\n",
    "# elderly_samples, 3dimension\n",
    "# TODO: please draw tableone from sample_df, groupby the groups you choose\n",
    "# TODO: you can also draw side by side boxplot\n",
    "flatten_features = [\n",
    "    sample[0] for elderly_sample in elderly_samples for sample in elderly_sample\n",
    "]\n",
    "# TODO: in this df, because all groups come from the same basic age group\n",
    "# you may need to generate another column for groupby to draw tableone\n",
    "# from the above flatten_features we could know that: in this case, the first 5 samples come from subset 1, 6-10 come from subset 2\n",
    "# you can use above infos to generate your groupby column\n",
    "sample_df = create_features_df(flatten_features)"
   ]
  },
  {
   "cell_type": "markdown",
   "metadata": {
    "id": "y__sgqqbc-rn"
   },
   "source": [
    "# **taks2-2:** evaluate patterns difference between different groups based on a specific label(ex. age, tir...)\n",
    "\n",
    "we now have the discprepancy between subsets from the same label group. we are going to evaluate\n",
    "\n",
    "> is there any significant pattern differences between different groups?\n",
    "\n",
    "we are doing exactly the same thing for different groups as above"
   ]
  },
  {
   "cell_type": "code",
   "execution_count": 20,
   "metadata": {
    "id": "PEurHsyifIIe"
   },
   "outputs": [],
   "source": [
    "# TODO: try change sample_num, group\n",
    "\n",
    "sample_num = 23  # random pick subject num\n",
    "\n",
    "age_group = [ 2, 3]"
   ]
  },
  {
   "cell_type": "code",
   "execution_count": 21,
   "metadata": {
    "id": "ARo5xbHsfKID",
    "outputId": "1d54639d-db4e-4a04-987e-f7077ba1f305"
   },
   "outputs": [
    {
     "name": "stdout",
     "output_type": "stream",
     "text": [
      "sample_num:  23\n",
      "sample_num:  23\n",
      "reference shape:\n",
      "(23, 1)\n",
      "Number of consistent elderly samples: 2\n"
     ]
    }
   ],
   "source": [
    "elderly_samples = []  # used the save different subset\n",
    "\n",
    "for age in age_group:\n",
    "    # choose three different subset from the elderly group\n",
    "    elderly_samples.append(\n",
    "        get_samples(\n",
    "            single_file_list,\n",
    "            sample_num=sample_num,\n",
    "            age=age,\n",
    "        )\n",
    "    )\n",
    "\n",
    "elderly_samples = [sample for sample in elderly_samples if sample is not None]\n",
    "# TODO: please make sure for each elderly_samples[i], the returned shape are the same\n",
    "\n",
    "# Get reference shape from the first valid sample\n",
    "reference_shape = elderly_samples[0].shape if elderly_samples else None\n",
    "\n",
    "# Keep only samples with the same shape as the first one\n",
    "elderly_samples = [\n",
    "    sample for sample in elderly_samples\n",
    "    if sample is not None and sample.shape == reference_shape\n",
    "]\n",
    "print(\"reference shape:\")\n",
    "print(reference_shape)\n",
    "print(f\"Number of consistent elderly samples: {len(elderly_samples)}\")\n"
   ]
  },
  {
   "cell_type": "code",
   "execution_count": 22,
   "metadata": {
    "id": "kUk2tqv8f6iH"
   },
   "outputs": [],
   "source": [
    "# (elderly_samples[i], (samples_num, 1)\n",
    "sample_num = elderly_samples[0].shape[0]  # real sample_num\n",
    "\n",
    "elderly_samples_datas = []\n",
    "\n",
    "for elderly_sample in elderly_samples:\n",
    "\n",
    "    elderly_samples_data = Parallel(n_jobs=2)(\n",
    "        delayed(load_time_series)(segment, single_folder)\n",
    "        for sample in elderly_sample\n",
    "        for segment in sample\n",
    "    )  # len(samples_num) with each entry (7,MOTIF_NUM)\n",
    "\n",
    "    elderly_samples_data = np.array(elderly_samples_data).reshape(\n",
    "        sample_num, -1, MOTIF_LENGTH\n",
    "    )  # sample_num, 7, MOTIF_LENGTH\n",
    "    elderly_samples_datas.append(elderly_samples_data)"
   ]
  },
  {
   "cell_type": "code",
   "execution_count": 23,
   "metadata": {
    "id": "N41pbCa5gAgI"
   },
   "outputs": [
    {
     "name": "stderr",
     "output_type": "stream",
     "text": [
      "/home/rowan/miniconda3/envs/retry/lib/python3.9/site-packages/joblib/externals/loky/process_executor.py:752: UserWarning: A worker stopped while some jobs were given to the executor. This can be caused by a too short worker timeout or by a memory leak.\n",
      "  warnings.warn(\n"
     ]
    }
   ],
   "source": [
    "grouped_motif_ids = []\n",
    "grouped_motif_barycenters = []\n",
    "grouped_k_medoid_ids = []\n",
    "grouped_k_medoid_barycenters = []\n",
    "\n",
    "for elderly_samples_data in elderly_samples_datas:\n",
    "\n",
    "    # apply parrallel motifs clustering to each case in a certain group\n",
    "    motif_results = Parallel(n_jobs=2)(\n",
    "        delayed(apply_motifs)(single_motif, single_tau, sample)\n",
    "        for sample in elderly_samples_data\n",
    "    )  # len(samples_num)\n",
    "    motif_ids, motifs_barycenters = zip(*motif_results)\n",
    "    # shape(samples_num, 7), (sample_nums, 7, MOTIF_NUM)\n",
    "    motif_ids = np.array(motif_ids)  # (sample_nums, 7)\n",
    "    motifs_barycenters = np.array(motifs_barycenters)  # (sample_nums, 7, MOTIF_NUM)\n",
    "\n",
    "    grouped_motif_ids.append(motif_ids)\n",
    "    grouped_motif_barycenters.append(motifs_barycenters)\n",
    "\n",
    "    \"\"\"do the same thing as above for k_medoid, change MOTIF_LENGTH to K_MEDOID_LENGTH\"\"\"\n",
    "    k_medoid_results = Parallel(n_jobs=2)(\n",
    "        delayed(apply_k_medoids)(single_threshold, sample, single_k_medoid)\n",
    "        for sample in elderly_samples_data\n",
    "    )  # len(samples_num)\n",
    "    k_medoid_ids, k_medoid_barycenters = zip(*k_medoid_results)\n",
    "\n",
    "    k_medoid_ids = np.array(k_medoid_ids)  # shape(samples_num, 7)\n",
    "    k_medoid_barycenters = np.array(\n",
    "        k_medoid_barycenters\n",
    "    )  # shape(samples_num, 7, K_MEDOID_NUM)\n",
    "\n",
    "    grouped_k_medoid_ids.append(k_medoid_ids)\n",
    "    grouped_k_medoid_barycenters.append(k_medoid_barycenters)"
   ]
  },
  {
   "cell_type": "code",
   "execution_count": 28,
   "metadata": {
    "id": "VXAzwR5GBqLg",
    "outputId": "5b638b22-36f9-4db8-892f-e40bd0747540"
   },
   "outputs": [
    {
     "data": {
      "image/png": "[encoded data removed]",
      "text/plain": [
       "<Figure size 800x400 with 1 Axes>"
      ]
     },
     "metadata": {},
     "output_type": "display_data"
    },
    {
     "data": {
      "image/png": "[encoded data removed]",
      "text/plain": [
       "<Figure size 800x400 with 1 Axes>"
      ]
     },
     "metadata": {},
     "output_type": "display_data"
    }
   ],
   "source": [
    "# draw histogram\n",
    "# TODO: if you find your bars not aligned well with the unique clusters:\n",
    "# try modify offsets = np.linspace(-bin_width / 2, bin_width / 2, subset_num) code in draw_histogram function\n",
    "# modify the number until aligned well\n",
    "# TODO: if there are too many classes, if may be hard to visualize, you can try draw several histogram to visualize some subsets of grouped_motif_ids\n",
    "# TODO: if kde lines do not look right, try adjust kde_kws={\"bw_adjust\": 0.1},\n",
    "# TODO: evaluate the plot\n",
    "\"\"\"\n",
    "draw_histogram(\n",
    "    grouped_motif_ids,\n",
    "    css4_colors[1:4],\n",
    "    len(grouped_motif_ids),\n",
    ")\n",
    "\"\"\"\n",
    "from itertools import chain\n",
    "\n",
    "def draw_histograms_by_group(grouped_motif_ids, colors, kde=False, method_name='Motif'):\n",
    "    bin_width = 1\n",
    "\n",
    "    for i, values in enumerate(grouped_motif_ids):\n",
    "        group_name = f\"Group {i + 1}\"\n",
    "\n",
    "        # Flatten values\n",
    "        flat_values = list(chain.from_iterable(\n",
    "            v.tolist() if isinstance(v, np.ndarray) else v\n",
    "            for v in values\n",
    "        ))\n",
    "        flat_values = np.array(flat_values)\n",
    "\n",
    "        bins = np.arange(min(flat_values) - 0.5, max(flat_values) + 1.5, bin_width)\n",
    "\n",
    "        plt.figure(figsize=(8, 4))\n",
    "        plt.hist(\n",
    "            flat_values,\n",
    "            bins=bins,\n",
    "            alpha=0.7,\n",
    "            color=colors[i % len(colors)],\n",
    "            edgecolor='black',\n",
    "            linewidth=0.5,\n",
    "        )\n",
    "\n",
    "        if kde:\n",
    "            sns.kdeplot(\n",
    "                flat_values,\n",
    "                bw_adjust=0.3,\n",
    "                color=colors[i % len(colors)],\n",
    "                linestyle=\"--\"\n",
    "            )\n",
    "\n",
    "        plt.xlabel(\"Motif ID\")\n",
    "        plt.ylabel(\"Frequency\")\n",
    "        plt.title(f\"Histogram of {method_name} IDs - {group_name}\")\n",
    "        plt.grid(True)\n",
    "        plt.tight_layout()\n",
    "        plt.show()\n",
    "draw_histograms_by_group(\n",
    "    grouped_motif_ids,\n",
    "    css4_colors[1:len(grouped_motif_ids)+1],\n",
    "    kde=False  # or True if you want to test KDE\n",
    ")\n"
   ]
  },
  {
   "cell_type": "code",
   "execution_count": 29,
   "metadata": {
    "id": "D67LZ6SFBqLg",
    "outputId": "3b6cdbd6-30ae-46b1-d5e9-91536c5cd84b"
   },
   "outputs": [
    {
     "data": {
      "image/png": "[encoded data removed]",
      "text/plain": [
       "<Figure size 800x600 with 1 Axes>"
      ]
     },
     "metadata": {},
     "output_type": "display_data"
    }
   ],
   "source": [
    "# draw tsne\n",
    "# TODO: evaluate the plot\n",
    "# TODO: if it is hard to visualize, you can draw tsne seperately for subsets of grouped_motif_barycenters\n",
    "# like draw grouped_motif_barycenters[0] and others seperately\n",
    "draw_tsne(\n",
    "    grouped_motif_barycenters,\n",
    "    len(grouped_motif_barycenters),\n",
    ")\n"
   ]
  },
  {
   "cell_type": "code",
   "execution_count": 33,
   "metadata": {
    "id": "42jpYi6wBqLg",
    "outputId": "c8e3de0d-68c3-4fa6-c56b-bfcba502f74d"
   },
   "outputs": [
    {
     "data": {
      "image/png": "[encoded data removed]",
      "text/plain": [
       "<Figure size 800x400 with 1 Axes>"
      ]
     },
     "metadata": {},
     "output_type": "display_data"
    },
    {
     "data": {
      "image/png": "[encoded data removed]",
      "text/plain": [
       "<Figure size 800x400 with 1 Axes>"
      ]
     },
     "metadata": {},
     "output_type": "display_data"
    }
   ],
   "source": [
    "# TODO: evaluate the plot\n",
    "\n",
    "draw_histograms_by_group(\n",
    "    grouped_k_medoid_ids,\n",
    "    css4_colors[1:4],\n",
    "    len(grouped_k_medoid_ids),\n",
    "    method_name=\"K-Medoid Cluster\"\n",
    ")"
   ]
  },
  {
   "cell_type": "code",
   "execution_count": 35,
   "metadata": {
    "id": "NgyRJmhYBqLg",
    "outputId": "51cf3927-f3cf-4099-ad1d-c08937c3f45c"
   },
   "outputs": [
    {
     "data": {
      "image/png": "[encoded data removed]",
      "text/plain": [
       "<Figure size 800x600 with 1 Axes>"
      ]
     },
     "metadata": {},
     "output_type": "display_data"
    }
   ],
   "source": [
    "# TODO: evaluate the plot\n",
    "\n",
    "draw_tsne(\n",
    "    grouped_k_medoid_barycenters,\n",
    "    len(grouped_k_medoid_barycenters),\n",
    ")"
   ]
  },
  {
   "cell_type": "code",
   "execution_count": null,
   "metadata": {
    "id": "YOz09U46gJZR",
    "outputId": "865491e4-8e7d-402b-d194-8bdcd48244cb"
   },
   "outputs": [],
   "source": []
  },
  {
   "cell_type": "code",
   "execution_count": 37,
   "metadata": {},
   "outputs": [
    {
     "name": "stdout",
     "output_type": "stream",
     "text": [
      "Requirement already satisfied: tableone in /home/rowan/miniconda3/envs/retry/lib/python3.9/site-packages (0.9.5)\n",
      "Requirement already satisfied: jinja2>=3.1.4 in /home/rowan/miniconda3/envs/retry/lib/python3.9/site-packages (from tableone) (3.1.4)\n",
      "Requirement already satisfied: numpy>=1.19.1 in /home/rowan/miniconda3/envs/retry/lib/python3.9/site-packages (from tableone) (1.26.3)\n",
      "Requirement already satisfied: openpyxl>=3.1.2 in /home/rowan/miniconda3/envs/retry/lib/python3.9/site-packages (from tableone) (3.1.5)\n",
      "Requirement already satisfied: pandas>=2.0.3 in /home/rowan/miniconda3/envs/retry/lib/python3.9/site-packages (from tableone) (2.2.3)\n",
      "Requirement already satisfied: scipy>=1.10.1 in /home/rowan/miniconda3/envs/retry/lib/python3.9/site-packages (from tableone) (1.13.1)\n",
      "Requirement already satisfied: statsmodels>=0.14.1 in /home/rowan/miniconda3/envs/retry/lib/python3.9/site-packages (from tableone) (0.14.4)\n",
      "Requirement already satisfied: tabulate>=0.9.0 in /home/rowan/miniconda3/envs/retry/lib/python3.9/site-packages (from tableone) (0.9.0)\n",
      "Requirement already satisfied: MarkupSafe>=2.0 in /home/rowan/miniconda3/envs/retry/lib/python3.9/site-packages (from jinja2>=3.1.4->tableone) (2.1.5)\n",
      "Requirement already satisfied: et-xmlfile in /home/rowan/miniconda3/envs/retry/lib/python3.9/site-packages (from openpyxl>=3.1.2->tableone) (2.0.0)\n",
      "Requirement already satisfied: python-dateutil>=2.8.2 in /home/rowan/miniconda3/envs/retry/lib/python3.9/site-packages (from pandas>=2.0.3->tableone) (2.9.0.post0)\n",
      "Requirement already satisfied: pytz>=2020.1 in /home/rowan/miniconda3/envs/retry/lib/python3.9/site-packages (from pandas>=2.0.3->tableone) (2025.2)\n",
      "Requirement already satisfied: tzdata>=2022.7 in /home/rowan/miniconda3/envs/retry/lib/python3.9/site-packages (from pandas>=2.0.3->tableone) (2025.2)\n",
      "Requirement already satisfied: six>=1.5 in /home/rowan/miniconda3/envs/retry/lib/python3.9/site-packages (from python-dateutil>=2.8.2->pandas>=2.0.3->tableone) (1.17.0)\n",
      "Requirement already satisfied: patsy>=0.5.6 in /home/rowan/miniconda3/envs/retry/lib/python3.9/site-packages (from statsmodels>=0.14.1->tableone) (1.0.1)\n",
      "Requirement already satisfied: packaging>=21.3 in /home/rowan/miniconda3/envs/retry/lib/python3.9/site-packages (from statsmodels>=0.14.1->tableone) (25.0)\n"
     ]
    }
   ],
   "source": [
    "!pip install tableone\n"
   ]
  },
  {
   "cell_type": "code",
   "execution_count": 38,
   "metadata": {},
   "outputs": [
    {
     "name": "stdout",
     "output_type": "stream",
     "text": [
      "MMD test for motif cluster ids distribution of subset 0 and 1:  (tensor(0.1160), tensor(0.0660))\n",
      "MMD test for motif pca cluster barycenters distribution of subset 0 and 1:  (tensor(0.1170), tensor(0.0500))\n",
      "KS test for motif ids distribution of subset 0 and 1:  KstestResult(statistic=0.17391304347826086, pvalue=0.01520785041643337, statistic_location=20, statistic_sign=-1)\n",
      "MMD test for motif flatten cluster barycenters distribution of subset 0 and 1:  (tensor(0.0321), tensor(0.))\n",
      "MMD test for k medoid cluster ids distribution of subset 0 and 1:  (tensor(0.1160), tensor(0.0580))\n",
      "MMD test for k medoid pca cluster barycenters distribution of subset 0 and 1:  (tensor(0.1336), tensor(0.0300))\n",
      "KS test for k medoid ids distribution of subset 0 and 1:  KstestResult(statistic=0.17391304347826086, pvalue=0.01520785041643337, statistic_location=20, statistic_sign=-1)\n",
      "MMD test for k medoid flatten cluster barycenters distribution of subset 0 and 1:  (tensor(0.0343), tensor(0.))\n"
     ]
    },
    {
     "data": {
      "image/png": "[encoded data removed]",
      "text/plain": [
       "<Figure size 1200x800 with 2 Axes>"
      ]
     },
     "metadata": {},
     "output_type": "display_data"
    },
    {
     "name": "stdout",
     "output_type": "stream",
     "text": [
      "Index(['trial', 'synthetic', 'sex', 'age', 'treatment', 'tir'], dtype='object')\n"
     ]
    },
    {
     "data": {
      "image/png": "[encoded data removed]",
      "text/plain": [
       "<Figure size 1200x600 with 2 Axes>"
      ]
     },
     "metadata": {},
     "output_type": "display_data"
    }
   ],
   "source": [
    "# === NEW ADDITIONS ARE MARKED WITH COMMENTS STARTING WITH \"# ADDED ====\"\n",
    "\n",
    "from itertools import combinations\n",
    "import numpy as np\n",
    "from scipy import stats\n",
    "from joblib import Parallel, delayed\n",
    "from tableone import TableOne\n",
    "import seaborn as sns\n",
    "import matplotlib.pyplot as plt\n",
    "import pandas as pd  # ADDED ====\n",
    "\n",
    "# === Assumed functions ===\n",
    "# - calculate_mmd(sample1, sample2)\n",
    "# - apply_pca(pca_model, sample)\n",
    "# - create_features_df(flatten_features)\n",
    "# - filter_samples_by_age(sample_df, age_range)\n",
    "# - filter_samples_by_tir(sample_df, tir_range)\n",
    "\n",
    "# === PREP ===\n",
    "grouped_motif_ids = np.array(grouped_k_medoid_ids)\n",
    "grouped_motif_barycenters = np.array(grouped_motif_barycenters)\n",
    "grouped_k_medoid_ids = np.array(grouped_k_medoid_ids)\n",
    "grouped_k_medoid_barycenters = np.array(grouped_k_medoid_barycenters)\n",
    "\n",
    "n = len(grouped_motif_ids)\n",
    "indices = list(combinations(range(n), 2))\n",
    "\n",
    "# ADDED ==== Initialize storage for test results\n",
    "test_results = []\n",
    "\n",
    "for i, j in indices:\n",
    "    pair = f\"{i}_{j}\"\n",
    "\n",
    "    # Motif ID MMD\n",
    "    sample1 = grouped_motif_ids[i]\n",
    "    sample2 = grouped_motif_ids[j]\n",
    "    mmd_motif_ids = calculate_mmd(sample1, sample2)\n",
    "    print(f\"MMD test for motif cluster ids distribution of subset {i} and {j}: \", mmd_motif_ids)\n",
    "    test_results.append((\"motif_ids\", \"MMD\", pair, float(mmd_motif_ids[0])))\n",
    "\n",
    "    # Motif PCA MMD\n",
    "    centers_sample1 = grouped_motif_barycenters[i]\n",
    "    centers_sample2 = grouped_motif_barycenters[j]\n",
    "    pca_centers_sample1 = np.squeeze(np.array(Parallel(n_jobs=2)(delayed(apply_pca)(single_motif_pca, s) for s in centers_sample1)))\n",
    "    pca_centers_sample2 = np.squeeze(np.array(Parallel(n_jobs=2)(delayed(apply_pca)(single_motif_pca, s) for s in centers_sample2)))\n",
    "    mmd_motif_pca = calculate_mmd(pca_centers_sample1, pca_centers_sample2)\n",
    "    print(f\"MMD test for motif pca cluster barycenters distribution of subset {i} and {j}: \", mmd_motif_pca)\n",
    "    test_results.append((\"motif_pca\", \"MMD\", pair, float(mmd_motif_pca[0])))\n",
    "\n",
    "    # KS test for motif IDs\n",
    "    flatten_sample1 = sample1.reshape(-1)\n",
    "    flatten_sample2 = sample2.reshape(-1)\n",
    "    ks_result = stats.ks_2samp(flatten_sample1, flatten_sample2)\n",
    "    print(f\"KS test for motif ids distribution of subset {i} and {j}: \", ks_result)\n",
    "    test_results.append((\"motif_ids\", \"KS_stat\", pair, ks_result.statistic))\n",
    "    test_results.append((\"motif_ids\", \"KS_pval\", pair, ks_result.pvalue))\n",
    "\n",
    "    # MMD on flattened motif shapes\n",
    "    flatten_centers_sample1 = centers_sample1.reshape(-1, MOTIF_LENGTH)\n",
    "    flatten_centers_sample2 = centers_sample2.reshape(-1, MOTIF_LENGTH)\n",
    "    mmd_motif_flatten = calculate_mmd(flatten_centers_sample1, flatten_centers_sample2)\n",
    "    print(f\"MMD test for motif flatten cluster barycenters distribution of subset {i} and {j}: \", mmd_motif_flatten)\n",
    "    test_results.append((\"motif_flatten\", \"MMD\", pair, float(mmd_motif_flatten[0])))\n",
    "\n",
    "    # k-medoid version\n",
    "    sample1 = grouped_k_medoid_ids[i]\n",
    "    sample2 = grouped_k_medoid_ids[j]\n",
    "    mmd_kmedoid_ids = calculate_mmd(sample1, sample2)\n",
    "    print(f\"MMD test for k medoid cluster ids distribution of subset {i} and {j}: \", mmd_kmedoid_ids)\n",
    "    test_results.append((\"kmedoid_ids\", \"MMD\", pair, float(mmd_kmedoid_ids[0])))\n",
    "\n",
    "    centers_sample1 = grouped_k_medoid_barycenters[i]\n",
    "    centers_sample2 = grouped_k_medoid_barycenters[j]\n",
    "    pca_centers_sample1 = np.squeeze(np.array(Parallel(n_jobs=2)(delayed(apply_pca)(single_k_medoid_pca, s) for s in centers_sample1)))\n",
    "    pca_centers_sample2 = np.squeeze(np.array(Parallel(n_jobs=2)(delayed(apply_pca)(single_k_medoid_pca, s) for s in centers_sample2)))\n",
    "    mmd_kmedoid_pca = calculate_mmd(pca_centers_sample1, pca_centers_sample2)\n",
    "    print(f\"MMD test for k medoid pca cluster barycenters distribution of subset {i} and {j}: \", mmd_kmedoid_pca)\n",
    "    test_results.append((\"kmedoid_pca\", \"MMD\", pair, float(mmd_kmedoid_pca[0])))\n",
    "\n",
    "    flatten_sample1 = sample1.reshape(-1)\n",
    "    flatten_sample2 = sample2.reshape(-1)\n",
    "    ks_result = stats.ks_2samp(flatten_sample1, flatten_sample2)\n",
    "    print(f\"KS test for k medoid ids distribution of subset {i} and {j}: \", ks_result)\n",
    "    test_results.append((\"kmedoid_ids\", \"KS_stat\", pair, ks_result.statistic))\n",
    "    test_results.append((\"kmedoid_ids\", \"KS_pval\", pair, ks_result.pvalue))\n",
    "\n",
    "    flatten_centers_sample1 = centers_sample1.reshape(-1, K_MEDOID_LENGTH)\n",
    "    flatten_centers_sample2 = centers_sample2.reshape(-1, K_MEDOID_LENGTH)\n",
    "    mmd_kmedoid_flatten = calculate_mmd(flatten_centers_sample1, flatten_centers_sample2)\n",
    "    print(f\"MMD test for k medoid flatten cluster barycenters distribution of subset {i} and {j}: \", mmd_kmedoid_flatten)\n",
    "    test_results.append((\"kmedoid_flatten\", \"MMD\", pair, float(mmd_kmedoid_flatten[0])))\n",
    "\n",
    "# ADDED ==== Create DataFrame and Heatmap\n",
    "df_stats = pd.DataFrame(test_results, columns=[\"test\", \"metric\", \"subset\", \"value\"])\n",
    "df_pivot = df_stats.pivot_table(index=[\"test\", \"metric\"], columns=\"subset\", values=\"value\")\n",
    "\n",
    "plt.figure(figsize=(12, 8))\n",
    "sns.heatmap(df_pivot, annot=True, fmt=\".3f\", cmap=\"coolwarm\", cbar_kws={'label': 'Test Value'})\n",
    "plt.title(\"Statistical Test Results (MMD / KS)\")\n",
    "plt.ylabel(\"Test Type / Metric\")\n",
    "plt.xlabel(\"Subset Pair\")\n",
    "plt.tight_layout()\n",
    "plt.show()\n",
    "\n",
    "# ADDED ==== Age/TIR Group Evaluations ====\n",
    "\n",
    "age_groups = [(0, 18), (18, 65), (65, 120)]\n",
    "tir_groups = [(0, 60), (60, 80), (80, 100)]\n",
    "\n",
    "def run_tests_on_group(group_name, grouped_ids, grouped_barycenters):\n",
    "    print(f\"\\n--- Group: {group_name} ---\")\n",
    "    for i, j in combinations(range(len(grouped_ids)), 2):\n",
    "        print(f\"\\nSubset {i} vs {j}\")\n",
    "        print(\"MMD on IDs:\", calculate_mmd(grouped_ids[i], grouped_ids[j]))\n",
    "        print(\"KS on IDs:\", stats.ks_2samp(grouped_ids[i].reshape(-1), grouped_ids[j].reshape(-1)))\n",
    "        print(\"MMD on flattened shapes:\", calculate_mmd(grouped_barycenters[i].reshape(-1, grouped_barycenters[i].shape[-1]), grouped_barycenters[j].reshape(-1, grouped_barycenters[j].shape[-1])))\n",
    "\n",
    "# ADDED ==== TableOne and Boxplots ====\n",
    "\n",
    "flatten_features = [sample[0] for elderly_sample in elderly_samples for sample in elderly_sample]\n",
    "sample_df = create_features_df(flatten_features)\n",
    "print(sample_df.columns)\n",
    "\n",
    "# TableOne\n",
    "\n",
    "# Step 1: Convert 'age' to numeric\n",
    "sample_df['age'] = pd.to_numeric(sample_df['age'], errors='coerce')\n",
    "\n",
    "# Step 2: Drop rows with missing or invalid age values\n",
    "sample_df = sample_df.dropna(subset=['age'])\n",
    "\n",
    "# Step 3: Create group column\n",
    "sample_df['group'] = sample_df['age'].apply(lambda x: 'elderly' if x >= 65 else 'non-elderly')\n",
    "\n",
    "# Step 4: Boxplots for continuous features (age, tir)\n",
    "plt.figure(figsize=(12, 6))\n",
    "for i, col in enumerate(['age', 'tir']):\n",
    "    plt.subplot(1, 2, i + 1)\n",
    "    sns.boxplot(data=sample_df, x='group', y=col)\n",
    "    plt.title(f'Distribution of {col} by group')\n",
    "    plt.tight_layout()\n",
    "plt.show()\n"
   ]
  },
  {
   "cell_type": "markdown",
   "metadata": {
    "id": "FJJtgjS1gkXF"
   },
   "source": [
    "# **task2-3:** for domain shifting\n",
    "\n",
    "we now know the patterns trend in a certain group, and the discrepancy between different groups based on a certain label.\n",
    "\n",
    "we are going to evaluate\n",
    "\n",
    "> for the same background. do samples come from multi source dataset have similar pattern distribution as single source dataset?\n",
    "\n",
    "we get samples from each domain(single source and multi source) under similar background(ex. the same age group) and evaluate if there is any dicrepancy between clusters distribution of two samples.\n",
    "\n",
    "draw hisogram, tsne to visualize.\n",
    "\n",
    "calculate MMD for returned cluster ids and pca centers\n",
    "\n",
    "flatten returend ids and centers and calculate KS test and MMD for ids and centers\n",
    "\n",
    "draw feature tables to see if there is any other feautres with signigicant difference\n",
    "\n",
    "the following use elderly as an example\n",
    "\n",
    "we use single source motifs and k medoids to evaluate here"
   ]
  },
  {
   "cell_type": "code",
   "execution_count": 60,
   "metadata": {
    "id": "7PFTbIsza04c",
    "outputId": "63f4a8bc-a1b0-479d-9112-47f6c70bc656"
   },
   "outputs": [
    {
     "name": "stdout",
     "output_type": "stream",
     "text": [
      "sample_num:  23\n",
      "sample_num:  23\n"
     ]
    }
   ],
   "source": [
    "# TODO: try change sample_num, group\n",
    "\n",
    "sample_num = 23  # random pick subject num\n",
    "\n",
    "single_elderly = get_samples(single_file_list, sample_num=sample_num, age=3)\n",
    "# sample_num, random_pick_num\n",
    "multi_elderly = get_samples(multi_file_list, sample_num=sample_num, age=3)\n",
    "\n",
    "# TODO: please make sure for single_elderly and multi_elderly, the returned shape are the same\n",
    "\n",
    "sample_num = single_elderly.shape[0]  # real sample_num, 1\n",
    "assert single_elderly.shape == multi_elderly.shape, \"Shape mismatch — adjust sampling.\"\n"
   ]
  },
  {
   "cell_type": "code",
   "execution_count": 61,
   "metadata": {
    "id": "aD6oeQ6qbPt8"
   },
   "outputs": [],
   "source": [
    "single_elderly_datas = Parallel(n_jobs=2)(\n",
    "    delayed(load_time_series)(segment, single_folder)\n",
    "    for sample in single_elderly\n",
    "    for segment in sample\n",
    ")  # len(samples) with each entry (7, MOTIF_NUM)\n",
    "\n",
    "single_elderly_datas = np.array(single_elderly_datas).reshape(\n",
    "    sample_num, -1, MOTIF_LENGTH\n",
    ")  # sample_num, 7, MOTIF_LENGTH\n",
    "\n",
    "multi_elderly_datas = Parallel(n_jobs=2)(\n",
    "    delayed(load_time_series)(segment, multi_folder)\n",
    "    for sample in multi_elderly\n",
    "    for segment in sample\n",
    ")\n",
    "\n",
    "multi_elderly_datas = np.array(multi_elderly_datas).reshape(\n",
    "    sample_num, -1, MOTIF_LENGTH\n",
    ")"
   ]
  },
  {
   "cell_type": "code",
   "execution_count": 62,
   "metadata": {},
   "outputs": [
    {
     "name": "stdout",
     "output_type": "stream",
     "text": [
      "2224376\n"
     ]
    }
   ],
   "source": [
    "print(single_elderly_datas.nbytes)\n"
   ]
  },
  {
   "cell_type": "code",
   "execution_count": 64,
   "metadata": {},
   "outputs": [
    {
     "name": "stdout",
     "output_type": "stream",
     "text": [
      "Single elderly datas: (23, 7, 1727)\n",
      "Single elderly memory (MB): 2.1213302612304688\n",
      "Multi elderly datas: (23, 7, 1727)\n",
      "Multi elderly memory (MB): 2.1213302612304688\n"
     ]
    }
   ],
   "source": [
    "print(\"Single elderly datas:\", single_elderly_datas.shape)\n",
    "print(\"Single elderly memory (MB):\", single_elderly_datas.nbytes / (1024 * 1024))\n",
    "\n",
    "print(\"Multi elderly datas:\", multi_elderly_datas.shape)\n",
    "print(\"Multi elderly memory (MB):\", multi_elderly_datas.nbytes / (1024 * 1024))\n",
    "\n",
    "test = apply_motifs(single_motif, single_tau, single_elderly_datas[0])\n"
   ]
  },
  {
   "cell_type": "code",
   "execution_count": null,
   "metadata": {
    "id": "qzc2FtlhdWKB",
    "outputId": "3c2a3dc5-f0b2-4f46-c086-76d135e85908"
   },
   "outputs": [],
   "source": [
    "# apply parrallel motifs clustering to each case in a certain group\n",
    "single_elderly_motifs = Parallel(n_jobs=2)(\n",
    "    delayed(apply_motifs)(single_motif, single_tau, sample)\n",
    "    for sample in single_elderly_datas\n",
    ")  # len(samples)\n",
    "\n",
    "multi_elderly_motifs = Parallel(n_jobs=2)(\n",
    "    delayed(apply_motifs)(single_motif, single_tau, sample)\n",
    "    for sample in multi_elderly_datas\n",
    ")  # len(samples)\n",
    "\n",
    "single_elderly_motif_ids, single_elderly_motifs_barycenters = zip(\n",
    "    *single_elderly_motifs\n",
    ")\n",
    "# (sample_num, 7), #(sample_num, days, MOTIF_NUM)\n",
    "single_elderly_motif_ids = np.array(single_elderly_motif_ids)\n",
    "single_elderly_motifs_barycenters = np.array(single_elderly_motifs_barycenters)\n",
    "\n",
    "multi_elderly_motif_ids, multi_elderly_motifs_barycenters = zip(*multi_elderly_motifs)\n",
    "multi_elderly_motif_ids = np.array(multi_elderly_motif_ids)\n",
    "multi_elderly_motifs_barycenters = np.array(multi_elderly_motifs_barycenters)\n",
    "\n",
    "\"\"\"do the same thing as above for k_medoid, change MOTIF_LENGTH to K_MEDOID_LENGTH\"\"\"\n",
    "\n",
    "single_elderly_k_modoid = Parallel(n_jobs=2)(\n",
    "    delayed(apply_k_medoids)(single_threshold, sample, single_k_medoid)\n",
    "    for sample in single_elderly_datas\n",
    ")  # len(samples)\n",
    "\n",
    "multi_elderly_k_modoid = Parallel(n_jobs=2)(\n",
    "    delayed(apply_k_medoids)(single_threshold, sample, single_k_medoid)\n",
    "    for sample in multi_elderly_datas\n",
    ")  # len(samples)\n",
    "\n",
    "single_elderly_k_medoid_ids, single_elderly_k_medoid_barycenters = zip(\n",
    "    *single_elderly_k_modoid\n",
    ")\n",
    "\n",
    "single_elderly_k_medoid_ids = np.array(single_elderly_k_medoid_ids)\n",
    "single_elderly_k_medoid_barycenters = np.array(single_elderly_k_medoid_barycenters)\n",
    "\n",
    "multi_elderly_k_medoid_ids, multi_elderly_k_medoid_barycenters = zip(\n",
    "    *multi_elderly_k_modoid\n",
    ")\n",
    "\n",
    "multi_elderly_k_medoid_ids = np.array(multi_elderly_k_medoid_ids)\n",
    "multi_elderly_k_medoid_barycenters = np.array(multi_elderly_k_medoid_barycenters)"
   ]
  },
  {
   "cell_type": "code",
   "execution_count": null,
   "metadata": {
    "id": "z9SDPNwwqCqn",
    "outputId": "7dced014-df4d-43a2-c8c5-ed2105223f0e"
   },
   "outputs": [],
   "source": []
  },
  {
   "cell_type": "code",
   "execution_count": 66,
   "metadata": {},
   "outputs": [
    {
     "data": {
      "image/png": "[encoded data removed]",
      "text/plain": [
       "<Figure size 1000x500 with 1 Axes>"
      ]
     },
     "metadata": {},
     "output_type": "display_data"
    },
    {
     "data": {
      "image/png": "[encoded data removed]",
      "text/plain": [
       "<Figure size 800x600 with 1 Axes>"
      ]
     },
     "metadata": {},
     "output_type": "display_data"
    },
    {
     "data": {
      "image/png": "[encoded data removed]",
      "text/plain": [
       "<Figure size 1000x500 with 1 Axes>"
      ]
     },
     "metadata": {},
     "output_type": "display_data"
    },
    {
     "data": {
      "image/png": "[encoded data removed]",
      "text/plain": [
       "<Figure size 800x600 with 1 Axes>"
      ]
     },
     "metadata": {},
     "output_type": "display_data"
    }
   ],
   "source": [
    "# === Prepare motif cluster IDs and barycenters ===\n",
    "concat_motif_ids = [single_elderly_motif_ids, multi_elderly_motif_ids]\n",
    "concat_motif_barycenters = [\n",
    "    single_elderly_motifs_barycenters,\n",
    "    multi_elderly_motifs_barycenters,\n",
    "]\n",
    "\n",
    "# === DRAW HISTOGRAM for motif clusters with improved method ===\n",
    "from collections import Counter\n",
    "import matplotlib.pyplot as plt\n",
    "import seaborn as sns\n",
    "import numpy as np\n",
    "\n",
    "def draw_aligned_histogram(cluster_ids_list, colors, subset_num, kde=True, title=\"Histogram of Cluster IDs\"):\n",
    "    \"\"\"\n",
    "    Custom histogram drawing with offset bin alignment and KDE tuning.\n",
    "    - cluster_ids_list: list of np.arrays, shape (samples, days)\n",
    "    - colors: list of color strings\n",
    "    - subset_num: number of groups (e.g. 2: single vs multi)\n",
    "    \"\"\"\n",
    "    fig, ax = plt.subplots(figsize=(10, 5))\n",
    "\n",
    "    # Flatten and stack all IDs to get unique bins\n",
    "    all_ids_flat = np.concatenate([ids.flatten() for ids in cluster_ids_list])\n",
    "    unique_bins = np.unique(all_ids_flat)\n",
    "    bin_width = 0.8\n",
    "    offsets = np.linspace(-bin_width / 2, bin_width / 2, subset_num)\n",
    "\n",
    "    for i, ids in enumerate(cluster_ids_list):\n",
    "        flat_ids = ids.flatten()\n",
    "        # Plot histogram with KDE\n",
    "        sns.histplot(\n",
    "            flat_ids,\n",
    "            bins=unique_bins - 0.5,\n",
    "            kde=kde,\n",
    "            kde_kws={\"bw_adjust\": 0.5},  # <-- Tune this if KDE looks off\n",
    "            color=colors[i],\n",
    "            label=f'Group {i + 1}',\n",
    "            ax=ax,\n",
    "            element=\"step\",\n",
    "            stat=\"density\",  # normalize for comparison\n",
    "            common_norm=False\n",
    "        )\n",
    "\n",
    "    ax.set_title(title)\n",
    "    ax.set_xlabel(\"Cluster ID\")\n",
    "    ax.set_ylabel(\"Density\")\n",
    "    ax.legend()\n",
    "    plt.grid(True)\n",
    "    plt.tight_layout()\n",
    "    plt.show()\n",
    "\n",
    "# === Use improved histogram for motifs ===\n",
    "draw_aligned_histogram(\n",
    "    concat_motif_ids,\n",
    "    css4_colors[0:2],\n",
    "    subset_num=len(concat_motif_ids),\n",
    "    kde=True,\n",
    "    title=\"Motif Cluster ID Distribution (Single vs Multi Elderly)\"\n",
    ")\n",
    "\n",
    "# === Draw t-SNE for motif barycenters ===\n",
    "draw_tsne(concat_motif_barycenters, len(concat_motif_barycenters))\n",
    "\n",
    "# ============================================================\n",
    "# === Repeat the same for k-medoid clusters ================\n",
    "# ============================================================\n",
    "\n",
    "concat_k_medoid_ids = [single_elderly_k_medoid_ids, multi_elderly_k_medoid_ids]\n",
    "concat_k_medoid_barycenters = [\n",
    "    single_elderly_k_medoid_barycenters,\n",
    "    multi_elderly_k_medoid_barycenters,\n",
    "]\n",
    "\n",
    "# === Use improved histogram for k-medoids ===\n",
    "draw_aligned_histogram(\n",
    "    concat_k_medoid_ids,\n",
    "    css4_colors[0:2],\n",
    "    subset_num=len(concat_k_medoid_ids),\n",
    "    kde=True,\n",
    "    title=\"K-Medoid Cluster ID Distribution (Single vs Multi Elderly)\"\n",
    ")\n",
    "\n",
    "# === Draw t-SNE for k-medoid barycenters ===\n",
    "draw_tsne(concat_k_medoid_barycenters, len(concat_k_medoid_barycenters))\n"
   ]
  },
  {
   "cell_type": "code",
   "execution_count": null,
   "metadata": {},
   "outputs": [],
   "source": []
  },
  {
   "cell_type": "code",
   "execution_count": 71,
   "metadata": {
    "id": "mL_ehY_Cels4",
    "outputId": "b0db1ad9-f5eb-4615-e98f-bacab26f94b4"
   },
   "outputs": [
    {
     "name": "stdout",
     "output_type": "stream",
     "text": [
      "\n",
      "=== Motif Cluster ID Distribution (Single Elderly vs Multi Elderly) ===\n",
      "📊 MMD: score = 0.0993, p = 0.2240\n",
      "✅ Similar\n",
      "📈 KS: stat = 0.0932, p = 0.4882\n",
      "✅ Similar\n",
      "\n",
      "=== Motif PCA Barycenters (Single Elderly vs Multi Elderly) ===\n",
      "📊 MMD: score = 0.0832, p = 0.6740\n",
      "✅ Similar\n",
      "\n",
      "=== Motif Flattened Barycenters (Single Elderly vs Multi Elderly) ===\n",
      "📊 MMD: score = 0.0150, p = 0.1310\n",
      "✅ Similar\n",
      "\n",
      "=== K-Medoid Cluster ID Distribution (Single Elderly vs Multi Elderly) ===\n",
      "📊 MMD: score = 0.0769, p = 0.8620\n",
      "✅ Similar\n",
      "📈 KS: stat = 0.0994, p = 0.4054\n",
      "✅ Similar\n",
      "\n",
      "=== K-Medoid PCA Barycenters (Single Elderly vs Multi Elderly) ===\n",
      "📊 MMD: score = 0.0855, p = 0.5200\n",
      "✅ Similar\n",
      "\n",
      "=== K-Medoid Flattened Barycenters (Single Elderly vs Multi Elderly) ===\n",
      "📊 MMD: score = 0.0145, p = 0.1550\n",
      "✅ Similar\n",
      "\n",
      "=== TableOne Summary by Domain ===\n",
      "                   Grouped by domain                                         \n",
      "                             Missing     Overall Multi Elderly Single Elderly\n",
      "n                                             46            23             23\n",
      "sex, n (%)       1                     29 (63.0)     15 (65.2)      14 (60.9)\n",
      "                 2                     17 (37.0)      8 (34.8)       9 (39.1)\n",
      "age, n (%)       3                    46 (100.0)    23 (100.0)     23 (100.0)\n",
      "treatment, n (%) 1                     15 (32.6)     15 (65.2)        0 (0.0)\n",
      "                 4                       1 (2.2)       1 (4.3)        0 (0.0)\n",
      "                 9                     30 (65.2)      7 (30.4)     23 (100.0)\n",
      "tir, n (%)       0                      8 (17.4)      7 (30.4)        1 (4.3)\n",
      "                 1                     17 (37.0)      4 (17.4)      13 (56.5)\n",
      "                 2                     16 (34.8)     10 (43.5)       6 (26.1)\n",
      "                 3                      5 (10.9)       2 (8.7)       3 (13.0)\n",
      "\n",
      "=== P-values comparing domains ===\n",
      "             p-value\n",
      "sex                1\n",
      "age                1\n",
      "treatment  4.706e-06\n",
      "tir            0.015\n",
      "\n",
      "Columns in domain_df:\n",
      "Index(['trial', 'synthetic', 'sex', 'age', 'treatment', 'tir', 'domain'], dtype='object')\n"
     ]
    }
   ],
   "source": [
    "from scipy import stats\n",
    "import numpy as np\n",
    "from joblib import Parallel, delayed\n",
    "from tableone import TableOne\n",
    "import seaborn as sns\n",
    "import matplotlib.pyplot as plt\n",
    "import pandas as pd\n",
    "\n",
    "# ---------- Domain names for printout ----------\n",
    "domain_1 = \"Single Elderly\"\n",
    "domain_2 = \"Multi Elderly\"\n",
    "\n",
    "# ---------- Motif Clusters ----------\n",
    "motif_ids1 = concat_motif_ids[0]\n",
    "motif_ids2 = concat_motif_ids[1]\n",
    "\n",
    "print(f\"\\n=== Motif Cluster ID Distribution ({domain_1} vs {domain_2}) ===\")\n",
    "mmd_score, p = calculate_mmd(motif_ids1, motif_ids2)\n",
    "print(f\"📊 MMD: score = {mmd_score:.4f}, p = {p:.4f}\")\n",
    "print(\"✅ Similar\" if p >= 0.05 else \"❌ Different\")\n",
    "\n",
    "ks_stat, ks_p = stats.ks_2samp(motif_ids1.reshape(-1), motif_ids2.reshape(-1))\n",
    "print(f\"📈 KS: stat = {ks_stat:.4f}, p = {ks_p:.4f}\")\n",
    "print(\"✅ Similar\" if ks_p >= 0.05 else \"❌ Different\")\n",
    "\n",
    "motif_centers1 = concat_motif_barycenters[0]\n",
    "motif_centers2 = concat_motif_barycenters[1]\n",
    "\n",
    "motif_pca1 = np.squeeze(np.array(Parallel(n_jobs=2)(delayed(apply_pca)(single_motif_pca, s) for s in motif_centers1)))\n",
    "motif_pca2 = np.squeeze(np.array(Parallel(n_jobs=2)(delayed(apply_pca)(single_motif_pca, s) for s in motif_centers2)))\n",
    "\n",
    "print(f\"\\n=== Motif PCA Barycenters ({domain_1} vs {domain_2}) ===\")\n",
    "mmd_score, p = calculate_mmd(motif_pca1, motif_pca2)\n",
    "print(f\"📊 MMD: score = {mmd_score:.4f}, p = {p:.4f}\")\n",
    "print(\"✅ Similar\" if p >= 0.05 else \"❌ Different\")\n",
    "\n",
    "motif_flatten1 = motif_centers1.reshape(-1, MOTIF_LENGTH)\n",
    "motif_flatten2 = motif_centers2.reshape(-1, MOTIF_LENGTH)\n",
    "\n",
    "print(f\"\\n=== Motif Flattened Barycenters ({domain_1} vs {domain_2}) ===\")\n",
    "mmd_score, p = calculate_mmd(motif_flatten1, motif_flatten2)\n",
    "print(f\"📊 MMD: score = {mmd_score:.4f}, p = {p:.4f}\")\n",
    "print(\"✅ Similar\" if p >= 0.05 else \"❌ Different\")\n",
    "\n",
    "# ---------- K-Medoid Clusters ----------\n",
    "k_ids1 = concat_k_medoid_ids[0]\n",
    "k_ids2 = concat_k_medoid_ids[1]\n",
    "\n",
    "print(f\"\\n=== K-Medoid Cluster ID Distribution ({domain_1} vs {domain_2}) ===\")\n",
    "mmd_score, p = calculate_mmd(k_ids1, k_ids2)\n",
    "print(f\"📊 MMD: score = {mmd_score:.4f}, p = {p:.4f}\")\n",
    "print(\"✅ Similar\" if p >= 0.05 else \"❌ Different\")\n",
    "\n",
    "ks_stat, ks_p = stats.ks_2samp(k_ids1.reshape(-1), k_ids2.reshape(-1))\n",
    "print(f\"📈 KS: stat = {ks_stat:.4f}, p = {ks_p:.4f}\")\n",
    "print(\"✅ Similar\" if ks_p >= 0.05 else \"❌ Different\")\n",
    "\n",
    "k_centers1 = concat_k_medoid_barycenters[0]\n",
    "k_centers2 = concat_k_medoid_barycenters[1]\n",
    "\n",
    "k_pca1 = np.squeeze(np.array(Parallel(n_jobs=2)(delayed(apply_pca)(single_k_medoid_pca, s) for s in k_centers1)))\n",
    "k_pca2 = np.squeeze(np.array(Parallel(n_jobs=2)(delayed(apply_pca)(single_k_medoid_pca, s) for s in k_centers2)))\n",
    "\n",
    "print(f\"\\n=== K-Medoid PCA Barycenters ({domain_1} vs {domain_2}) ===\")\n",
    "mmd_score, p = calculate_mmd(k_pca1, k_pca2)\n",
    "print(f\"📊 MMD: score = {mmd_score:.4f}, p = {p:.4f}\")\n",
    "print(\"✅ Similar\" if p >= 0.05 else \"❌ Different\")\n",
    "\n",
    "k_flatten1 = k_centers1.reshape(-1, K_MEDOID_LENGTH)\n",
    "k_flatten2 = k_centers2.reshape(-1, K_MEDOID_LENGTH)\n",
    "\n",
    "print(f\"\\n=== K-Medoid Flattened Barycenters ({domain_1} vs {domain_2}) ===\")\n",
    "mmd_score, p = calculate_mmd(k_flatten1, k_flatten2)\n",
    "print(f\"📊 MMD: score = {mmd_score:.4f}, p = {p:.4f}\")\n",
    "print(\"✅ Similar\" if p >= 0.05 else \"❌ Different\")\n",
    "\n",
    "# ---------- TableOne / Side-by-Side Plots ----------\n",
    "concat_elderly = [single_elderly, multi_elderly]\n",
    "flatten_features = []\n",
    "domain_labels = []\n",
    "\n",
    "for group, label in zip(concat_elderly, [domain_1, domain_2]):\n",
    "    for s in group:\n",
    "        flatten_features.append(s[0])\n",
    "        domain_labels.append(label)\n",
    "\n",
    "domain_df = create_features_df(flatten_features)\n",
    "domain_df[\"domain\"] = domain_labels\n",
    "\n",
    "# Define columns and categorical variables\n",
    "columns = [col for col in domain_df.columns if col not in ['domain', 'trial', 'synthetic']]\n",
    "categorical = [col for col in columns if domain_df[col].dtype == 'object' or domain_df[col].dtype.name == 'category']\n",
    "\n",
    "print(\"\\n=== TableOne Summary by Domain ===\")\n",
    "table1 = TableOne(domain_df, columns=columns, categorical=categorical, groupby='domain')\n",
    "print(table1)\n",
    "\n",
    "# --- Calculate p-values for each variable comparing domain_1 vs domain_2 ---\n",
    "def compute_pval(df, col, group_col='domain'):\n",
    "    group1 = df[df[group_col] == domain_1][col].dropna()\n",
    "    group2 = df[df[group_col] == domain_2][col].dropna()\n",
    "    \n",
    "    if col in categorical:\n",
    "        # Categorical variable: use Chi-square or Fisher's exact test\n",
    "        contingency = pd.crosstab(df[col], df[group_col])\n",
    "        if contingency.values.min() < 5:\n",
    "            # Use Fisher's exact test for small counts (only for 2x2 tables)\n",
    "            if contingency.shape == (2, 2):\n",
    "                _, pval = stats.fisher_exact(contingency)\n",
    "            else:\n",
    "                # fallback: chi2 test if not 2x2\n",
    "                _, pval, _, _ = stats.chi2_contingency(contingency)\n",
    "        else:\n",
    "            _, pval, _, _ = stats.chi2_contingency(contingency)\n",
    "    else:\n",
    "        # Continuous variable: test for normality (Shapiro)\n",
    "        # If normal, use t-test; else Mann-Whitney U test\n",
    "        norm1 = stats.shapiro(group1.sample(min(len(group1), 5000), random_state=42))[1] > 0.05 if len(group1) > 3 else False\n",
    "        norm2 = stats.shapiro(group2.sample(min(len(group2), 5000), random_state=42))[1] > 0.05 if len(group2) > 3 else False\n",
    "        \n",
    "        if norm1 and norm2:\n",
    "            _, pval = stats.ttest_ind(group1, group2, nan_policy='omit')\n",
    "        else:\n",
    "            _, pval = stats.mannwhitneyu(group1, group2, alternative='two-sided')\n",
    "    return pval\n",
    "\n",
    "pvals = {col: compute_pval(domain_df, col) for col in columns}\n",
    "\n",
    "# Show p-values nicely:\n",
    "pval_df = pd.DataFrame.from_dict(pvals, orient='index', columns=['p-value'])\n",
    "pval_df['p-value'] = pval_df['p-value'].apply(lambda x: f\"{x:.4g}\")\n",
    "\n",
    "print(\"\\n=== P-values comparing domains ===\")\n",
    "print(pval_df)\n",
    "\n",
    "print(\"\\nColumns in domain_df:\")\n",
    "print(domain_df.columns)\n"
   ]
  },
  {
   "cell_type": "markdown",
   "metadata": {
    "id": "gtslcrCJyf8x"
   },
   "source": [
    "# **task3:** to evaluate models' performance on smaller trials\n",
    "\n",
    "in multi souce dataset, there are some trials with smaller numbers of subjects. this experiment is gonna evaluate if any smaller trials would be sacrifice.\n",
    "\n",
    "the easiest way is to evaluate how many test cases are nonclassified in each trial\n",
    "\n",
    "we use multi source motifs and k medoids to evaluate here"
   ]
  },
  {
   "cell_type": "code",
   "execution_count": null,
   "metadata": {
    "id": "mHeF-sRmieff"
   },
   "outputs": [],
   "source": [
    "# TODO: try change sample_num\n",
    "sample_num = 5  # random pick subject num\n",
    "\n",
    "trial_group = [\"a\", \"b\", \"l\", \"t\", \"w\"]"
   ]
  },
  {
   "cell_type": "code",
   "execution_count": null,
   "metadata": {
    "id": "rUjrZRwSjI4g",
    "outputId": "81ccde28-a8b5-4612-8956-7399c9b5cc1e"
   },
   "outputs": [],
   "source": [
    "trial_samples = []\n",
    "\n",
    "for trial in trial_group:\n",
    "    # choose several subjects under similar background\n",
    "    trial_samples.append(\n",
    "        get_samples(\n",
    "            multi_file_list,\n",
    "            sample_num=sample_num,\n",
    "            trial=trial,\n",
    "        )\n",
    "    )  # each entry shape(sample_num, 1)\n",
    "\n",
    "# NOTE: sample_num of different trials could be different"
   ]
  },
  {
   "cell_type": "code",
   "execution_count": null,
   "metadata": {
    "id": "vsGYp7qx3nL6",
    "outputId": "cd734f0c-426b-4017-9ac5-ea51b946a6fb"
   },
   "outputs": [],
   "source": [
    "grouped_motif_ids = []\n",
    "grouped_k_medoid_ids = []\n",
    "\n",
    "for trial_sample in trial_samples:\n",
    "\n",
    "    trial_samples_datas = Parallel(n_jobs=-1)(\n",
    "        delayed(load_time_series)(segment, multi_folder)\n",
    "        for sample in trial_sample\n",
    "        for segment in sample\n",
    "    )  # len(samples_num[i]) with each entry (7, MOTIF_NUM)\n",
    "\n",
    "    trial_samples_datas = np.array(trial_samples_datas).reshape(\n",
    "        -1, 7, MOTIF_LENGTH\n",
    "    )  # sample_num[i], 7, MOTIF_LENGTH\n",
    "\n",
    "    # apply parrallel motifs clustering to each case in a certain group\n",
    "    motif_results = Parallel(n_jobs=-1)(\n",
    "        delayed(apply_motifs)(multi_motif, multi_tau, sample)\n",
    "        for sample in trial_samples_datas\n",
    "    )  # len(sample_num[i])\n",
    "\n",
    "    motif_ids, _ = zip(*motif_results)\n",
    "    # sample_num[i], 7\n",
    "    motif_ids = np.array(motif_ids)\n",
    "\n",
    "    grouped_motif_ids.append(motif_ids)\n",
    "\n",
    "    \"\"\"do the same thing as above for k_medoid, change MOTIF_LENGTH to K_MEDOID_LENGTH\"\"\"\n",
    "    k_medoid_results = Parallel(n_jobs=-1)(\n",
    "        delayed(apply_k_medoids)(multi_threshold, sample, multi_k_medoid)\n",
    "        for sample in trial_samples_datas\n",
    "    )  # len(sample_num[i])\n",
    "    k_medoid_ids, _ = zip(*k_medoid_results)\n",
    "\n",
    "    k_medoid_ids = np.array(k_medoid_ids)\n",
    "\n",
    "    grouped_k_medoid_ids.append(k_medoid_ids)\n",
    "\n",
    "# TODO:evaluate the unclassified ratio of each trial\n",
    "for trial_motif_ids, trial_k_medoid_ids, trial in zip(\n",
    "    grouped_motif_ids, grouped_k_medoid_ids, trial_group\n",
    "):\n",
    "\n",
    "    trial_motif_ids = trial_motif_ids.flatten()  # sample_num[i], 7 to sample_num[i]* 7\n",
    "    unclassified_motif_ids = trial_motif_ids[trial_motif_ids < 0]\n",
    "    unclassified_motif_ratio = len(unclassified_motif_ids) / len(trial_motif_ids)\n",
    "\n",
    "    trial_k_medoid_ids = trial_k_medoid_ids.flatten()\n",
    "    unclassified_k_medoid_ids = trial_k_medoid_ids[trial_k_medoid_ids < 0]\n",
    "    unclassified_k_medoid_ratio = len(unclassified_k_medoid_ids) / len(\n",
    "        trial_k_medoid_ids\n",
    "    )\n",
    "    print(f\"unclassified motifs ratio of trial {trial} is: \", unclassified_motif_ratio)\n",
    "    print(\n",
    "        f\"unclassified K medoids ratio of trial {trial} is: \",\n",
    "        unclassified_k_medoid_ratio,\n",
    "    )"
   ]
  },
  {
   "cell_type": "markdown",
   "metadata": {
    "id": "WpvzI64ivukQ"
   },
   "source": [
    "# **task4:** to evaluate if there is any different in distribution between synthetic and non-synthetic healthy subject\n",
    "\n",
    "we have many synthetic healthy data. what we want to evaluate is\n",
    "\n",
    "> is there any pattern distribution discrepancy between synthetic healthy cgm and real world healhty cgm\n",
    "\n",
    "the goal is to evaluate the practicality of the synthetic cgm data\n",
    "\n",
    "we get samples from each group(healthy synthetic and healthy original) and evaluate if there is any dicrepancy between clusters distribution of two samples.\n",
    "\n",
    "draw hisogram, tsne to visualize.\n",
    "\n",
    "calculate MMD for returned cluster ids and pca centers\n",
    "\n",
    "flatten returend ids and centers and calculate KS test and MMD for ids and centers\n",
    "\n",
    "draw feature tables to see if there is any other feautres with signigicant difference\n",
    "\n",
    "we use multisource motifs and k medoids to evaluate here"
   ]
  },
  {
   "cell_type": "code",
   "execution_count": null,
   "metadata": {
    "id": "eqGWnNvkloR9"
   },
   "outputs": [],
   "source": [
    "# TODO: try change sample_num\n",
    "sample_num = 5"
   ]
  },
  {
   "cell_type": "code",
   "execution_count": null,
   "metadata": {
    "id": "eb5OSLv5l3cD",
    "outputId": "711c2921-0ac2-41ed-9135-ab2a9a75c6d0"
   },
   "outputs": [],
   "source": [
    "original_healthy = get_samples(\n",
    "    multi_file_list,\n",
    "    sample_num=sample_num,\n",
    "    trial=\"s\",\n",
    "    synthetic=0,\n",
    ")\n",
    "\n",
    "\n",
    "synthetic_healthy = get_samples(\n",
    "    multi_file_list,\n",
    "    sample_num=sample_num,\n",
    "    trial=\"s\",\n",
    "    synthetic=1,\n",
    ")\n",
    "\n",
    "\n",
    "# TODO: make sure above returned shape are the same"
   ]
  },
  {
   "cell_type": "code",
   "execution_count": null,
   "metadata": {
    "id": "hbeeNCVzl_76"
   },
   "outputs": [],
   "source": [
    "sample_num = original_healthy.shape[0]  # real sample_num\n",
    "\n",
    "original_healthy_datas = Parallel(n_jobs=-1)(\n",
    "    delayed(load_time_series)(segment, multi_folder)\n",
    "    for sample in original_healthy\n",
    "    for segment in sample\n",
    ")  # len(samples) with each entry (7,MOTIF_LENGTH)\n",
    "\n",
    "original_healthy_datas = np.array(original_healthy_datas).reshape(\n",
    "    sample_num, -1, MOTIF_LENGTH\n",
    ")  # sample_num, random_pick_num*7, MOTIF_LENGTH\n",
    "\n",
    "synthetic_healthy_datas = Parallel(n_jobs=-1)(\n",
    "    delayed(load_time_series)(segment, multi_folder)\n",
    "    for sample in synthetic_healthy\n",
    "    for segment in sample\n",
    ")  # len(samples) with each entry (7,MOTIF_LENGTH)\n",
    "\n",
    "synthetic_healthy_datas = np.array(synthetic_healthy_datas).reshape(\n",
    "    sample_num, -1, MOTIF_LENGTH\n",
    ")  # sample_num, 7, MOTIF_LENGTH"
   ]
  },
  {
   "cell_type": "code",
   "execution_count": null,
   "metadata": {
    "id": "6ccT1DP0mp-J"
   },
   "outputs": [],
   "source": [
    "# apply parrallel motifs clustering to each case in a certain group\n",
    "original_healthy_motifs = Parallel(n_jobs=-1)(\n",
    "    delayed(apply_motifs)(multi_motif, multi_tau, sample)\n",
    "    for sample in original_healthy_datas\n",
    ")  # len(samples)\n",
    "\n",
    "synthetic_healthy_motifs = Parallel(n_jobs=-1)(\n",
    "    delayed(apply_motifs)(multi_motif, multi_tau, sample)\n",
    "    for sample in synthetic_healthy_datas\n",
    ")  # len(samples)\n",
    "\n",
    "original_healthy_motif_ids, original_healthy_motifs_barycenters = zip(\n",
    "    *original_healthy_motifs\n",
    ")\n",
    "# (sample_num, 7) and (sample_num, 7, MOTIF_LENGTH)\n",
    "original_healthy_motif_ids = np.array(original_healthy_motif_ids)\n",
    "original_healthy_motifs_barycenters = np.array(original_healthy_motifs_barycenters)\n",
    "\n",
    "synthetic_healthy_motif_ids, synthetic_healthy_motifs_barycenters = zip(\n",
    "    *synthetic_healthy_motifs\n",
    ")\n",
    "synthetic_healthy_motif_ids = np.array(synthetic_healthy_motif_ids)\n",
    "synthetic_healthy_motifs_barycenters = np.array(synthetic_healthy_motifs_barycenters)\n",
    "\n",
    "\n",
    "\"\"\"do the same thing as above for k_medoid, change MOTIF_LENGTH to K_MEDOID_LENGTH\"\"\"\n",
    "original_healthy_k_modoid = Parallel(n_jobs=-1)(\n",
    "    delayed(apply_k_medoids)(multi_threshold, sample, multi_k_medoid)\n",
    "    for sample in original_healthy_datas\n",
    ")  # len(sample_num)\n",
    "synthetic_healthy_k_modoid = Parallel(n_jobs=-1)(\n",
    "    delayed(apply_k_medoids)(multi_threshold, sample, multi_k_medoid)\n",
    "    for sample in synthetic_healthy_datas\n",
    ")  # len(sample_num)\n",
    "\n",
    "original_healthy_k_medoid_ids, original_healthy_k_medoid_barycenters = zip(\n",
    "    *original_healthy_k_modoid\n",
    ")\n",
    "\n",
    "original_healthy_k_medoid_ids = np.array(original_healthy_k_medoid_ids)\n",
    "original_healthy_k_medoid_barycenters = np.array(original_healthy_k_medoid_barycenters)\n",
    "\n",
    "synthetic_healthy_k_medoid_ids, synthetic_healthy_k_medoid_barycenters = zip(\n",
    "    *synthetic_healthy_k_modoid\n",
    ")\n",
    "synthetic_healthy_k_medoid_ids = np.array(synthetic_healthy_k_medoid_ids)\n",
    "synthetic_healthy_k_medoid_barycenters = np.array(\n",
    "    synthetic_healthy_k_medoid_barycenters\n",
    ")"
   ]
  },
  {
   "cell_type": "code",
   "execution_count": null,
   "metadata": {
    "id": "-SnZdEx6BqLj"
   },
   "outputs": [],
   "source": [
    "concat_motif_ids = [original_healthy_motif_ids, synthetic_healthy_motif_ids]\n",
    "\n",
    "concat_motif_barycenters = [\n",
    "    original_healthy_motifs_barycenters,\n",
    "    synthetic_healthy_motifs_barycenters,\n",
    "]\n",
    "\n",
    "concat_k_medoid_ids = [original_healthy_k_medoid_ids, synthetic_healthy_k_medoid_ids]\n",
    "\n",
    "concat_k_medoid_barycenters = [\n",
    "    original_healthy_k_medoid_barycenters,\n",
    "    synthetic_healthy_k_medoid_barycenters,\n",
    "]"
   ]
  },
  {
   "cell_type": "code",
   "execution_count": null,
   "metadata": {
    "id": "h9_INjHholMX",
    "outputId": "a00f7976-cc54-4528-c7bd-3e1c8fda4295"
   },
   "outputs": [],
   "source": [
    "# draw histogram\n",
    "# TODO: if you find your bars not aligned well with the unique clusters:\n",
    "# try modify offsets = np.linspace(-bin_width / 2, bin_width / 2, subset_num) code in draw_histogram function\n",
    "# modify the number until aligned well\n",
    "# TODO: if kde lines do not look right, try adjust kde_kws={\"bw_adjust\": 0.1},\n",
    "# TODO: evaluate the plot\n",
    "\n",
    "\n",
    "draw_histogram(\n",
    "    concat_motif_ids,\n",
    "    css4_colors[0:2],\n",
    "    len(concat_motif_ids),\n",
    ")  # (subset_num, sample_num, days)\n",
    "\n",
    "\n",
    "# draw tsne\n",
    "\n",
    "\n",
    "# TODO: evaluate the results\n",
    "\n",
    "\n",
    "draw_tsne(\n",
    "    concat_motif_barycenters,\n",
    "    len(concat_motif_barycenters),\n",
    ")\n",
    "\n",
    "\n",
    "\"\"\"do the same thing as above for k_medoid, change MOTIF_LENGTH to K_MEDOID_LENGTH\"\"\"\n",
    "\n",
    "\n",
    "# TODO: evaluate the results\n",
    "\n",
    "\n",
    "draw_histogram(\n",
    "    concat_k_medoid_ids,\n",
    "    css4_colors[0:2],\n",
    "    len(concat_k_medoid_ids),\n",
    ")\n",
    "\n",
    "\n",
    "# TODO: evaluate the results\n",
    "\n",
    "\n",
    "draw_tsne(\n",
    "    concat_k_medoid_barycenters,\n",
    "    len(concat_k_medoid_barycenters),\n",
    ")"
   ]
  },
  {
   "cell_type": "code",
   "execution_count": null,
   "metadata": {
    "id": "fBBmPfYaqXRT",
    "outputId": "dd38305d-84fd-4979-e850-87b128b00a3b"
   },
   "outputs": [],
   "source": [
    "# apply MMD test for the samples from two domains\n",
    "\n",
    "sample1 = concat_motif_ids[0]  # (sample_nums, 7)\n",
    "sample2 = concat_motif_ids[1]\n",
    "# TODO: evalute the results\n",
    "# the returend MMD metrics are MMD Score, p_value\n",
    "print(\n",
    "    f\"MMD test for motif cluster ids distribution of subset {i} and {j}: \",\n",
    "    calculate_mmd(sample1, sample2),\n",
    ")\n",
    "\n",
    "centers_sample1 = concat_motif_barycenters[0]  # (sample_num, days, MOTIF_LENGTH)\n",
    "centers_sample2 = concat_motif_barycenters[1]\n",
    "# pca (days, MOTIF_LENGTH) -> ((days, only one features)\n",
    "\n",
    "pca_centers_sample1 = Parallel(n_jobs=-1)(\n",
    "    delayed(apply_pca)(multi_motif_pca, sample) for sample in centers_sample1\n",
    ")  # len(samples_num)\n",
    "pca_centers_sample1 = np.squeeze(np.array(pca_centers_sample1))  # (sample_num, days)\n",
    "\n",
    "pca_centers_sample2 = Parallel(n_jobs=-1)(\n",
    "    delayed(apply_pca)(multi_motif_pca, sample) for sample in centers_sample2\n",
    ")  # len(samples_num)\n",
    "pca_centers_sample2 = np.squeeze(np.array(pca_centers_sample2))  # (sample_num, days)\n",
    "\n",
    "print(pca_centers_sample1.shape)\n",
    "print(pca_centers_sample2.shape)\n",
    "# TODO: evalute the results\n",
    "print(\n",
    "    f\"MMD test for motif pca cluster barycenters distribution of subset {i} and {j}: \",\n",
    "    calculate_mmd(pca_centers_sample1, pca_centers_sample2),\n",
    ")\n",
    "\n",
    "# treat each day as a sample\n",
    "flatten_sample1 = sample1.reshape(-1)  # (sample_nums*7)\n",
    "flatten_sample2 = sample2.reshape(-1)\n",
    "# TODO: evalute the results\n",
    "print(\n",
    "    f\"KS test for motif ids distribution of subset {i} and {j}: \",\n",
    "    stats.ks_2samp(flatten_sample1, flatten_sample2),\n",
    ")\n",
    "\n",
    "# treat each day as a sample\n",
    "flatten_centers_sample1 = centers_sample1.reshape(-1, MOTIF_LENGTH)\n",
    "flatten_centers_sample2 = centers_sample2.reshape(-1, MOTIF_LENGTH)\n",
    "# TODO: evalute the results\n",
    "print(\n",
    "    f\"MMD test for motif flatten cluster barycenters distribution of subset {i} and {j}: \",\n",
    "    calculate_mmd(flatten_centers_sample1, flatten_centers_sample2),\n",
    ")\n",
    "\n",
    "\"\"\"do the same thing as above for k_medoid, change MOTIF_LENGTH to K_MEDOID_LENGTH\"\"\"\n",
    "sample1 = concat_k_medoid_ids[0]\n",
    "sample2 = concat_k_medoid_ids[1]\n",
    "# TODO: evalute the results\n",
    "print(\n",
    "    f\"MMD test for k medoid cluster ids distribution of subset {i} and {j}: \",\n",
    "    calculate_mmd(sample1, sample2),\n",
    ")\n",
    "\n",
    "centers_sample1 = concat_k_medoid_barycenters[0]\n",
    "centers_sample2 = concat_k_medoid_barycenters[1]\n",
    "\n",
    "pca_centers_sample1 = Parallel(n_jobs=-1)(\n",
    "    delayed(apply_pca)(multi_k_medoid_pca, sample) for sample in centers_sample1\n",
    ")  # len(samples_num)\n",
    "pca_centers_sample1 = np.squeeze(np.array(pca_centers_sample1))  # (sample_num, days)\n",
    "pca_centers_sample2 = Parallel(n_jobs=-1)(\n",
    "    delayed(apply_pca)(multi_k_medoid_pca, sample) for sample in centers_sample2\n",
    ")  # len(samples_num)\n",
    "pca_centers_sample2 = np.squeeze(np.array(pca_centers_sample2))  # (sample_num, days)\n",
    "\n",
    "# TODO: evalute the results\n",
    "print(\n",
    "    f\"MMD test for k medoid pca cluster barycenters distribution of subset {i} and {j}: \",\n",
    "    calculate_mmd(pca_centers_sample1, pca_centers_sample2),\n",
    ")\n",
    "\n",
    "flatten_sample1 = sample1.reshape(-1)\n",
    "flatten_sample2 = sample2.reshape(-1)\n",
    "# TODO: evalute the results\n",
    "print(\n",
    "    f\"KS test for k medoid ids distribution of subset {i} and {j}: \",\n",
    "    stats.ks_2samp(flatten_sample1, flatten_sample2),\n",
    ")\n",
    "\n",
    "flatten_centers_sample1 = centers_sample1.reshape(-1, K_MEDOID_LENGTH)\n",
    "flatten_centers_sample2 = centers_sample2.reshape(-1, K_MEDOID_LENGTH)\n",
    "# TODO: evalute the results\n",
    "print(\n",
    "    f\"MMD test for k medoid flatten cluster barycenters distribution of subset {i} and {j}: \",\n",
    "    calculate_mmd(flatten_centers_sample1, flatten_centers_sample2),\n",
    ")\n",
    "\n",
    "# get feature tables\n",
    "# TODO: please draw tableone from healthy_df, groupby the groups you choose\n",
    "# TODO: you can also draw side by side boxplot\n",
    "concat_healthy = [original_healthy, synthetic_healthy]\n",
    "\n",
    "flatten_features = [\n",
    "    sample[0] for healthy_sample in concat_healthy for sample in healthy_sample\n",
    "]\n",
    "healthy_df = create_features_df(flatten_features)"
   ]
  },
  {
   "cell_type": "markdown",
   "metadata": {
    "id": "77yXfrqmhRVi"
   },
   "source": [
    "# **task5:** evaluate groups from different trials in multi source dataset but with similar labels, to see if there is any bias\n",
    "\n",
    "because different trials have different interventions. what we want to evaluate here is\n",
    "\n",
    "> will the intervention or inclusion/exclusion criteria in each trial will lead to different patterns distribution even under the same background(ex. the same age group)?\n",
    "\n",
    "here we would first have a df shows the whole features from the whole multi source test set\n",
    "\n",
    "you need to choose some samples with similar background (ex. treatment group) from different trials and compare their patterns distribution to look for discrepancy\n",
    "\n",
    "draw hisogram, tsne to visualize.\n",
    "\n",
    "calculate MMD for returned cluster ids and pca centers\n",
    "\n",
    "flatten returend ids and centers and calculate KS test and MMD for ids and centers\n",
    "\n",
    "draw feature tables to see if there is any other feautres that could explain the difference of the cgm pattern distribution.\n",
    "\n",
    "we use multisource motifs and k medoids to evaluate here\n",
    "\n",
    "in the following example, we use aleppo(a) and brown(b) with age group 2. in each trial, we choose two subsets from each trial. so there would be 4 sets of samples in total. we then compare them pairwisely."
   ]
  },
  {
   "cell_type": "code",
   "execution_count": null,
   "metadata": {
    "id": "Hhnz3CvlvRjS"
   },
   "outputs": [],
   "source": [
    "# TODO: try change sample_num, set_num, trials and label\n",
    "sample_num = 5\n",
    "age = 2\n",
    "set_num = 2\n",
    "trials = [\"a\", \"b\"]"
   ]
  },
  {
   "cell_type": "code",
   "execution_count": null,
   "metadata": {
    "id": "t4Uu0-NMxuZT",
    "outputId": "9c33bad0-ea8b-4d5f-97cf-28c0f99c929e"
   },
   "outputs": [],
   "source": [
    "trial_samples = []  # len(set_num * len(trials))\n",
    "\n",
    "for trial in trials:\n",
    "    for subset in range(set_num):\n",
    "        # choose several subjects under similar background\n",
    "        trial_samples.append(\n",
    "            get_samples(\n",
    "                multi_file_list,\n",
    "                sample_num=sample_num,\n",
    "                trial=trial,\n",
    "            )\n",
    "        )  # a1, a2, b1, b2 in this case\n",
    "\n",
    "# TODO: please make sure for each entry, the returned shape are the same"
   ]
  },
  {
   "cell_type": "code",
   "execution_count": null,
   "metadata": {
    "id": "WjL82sZVzv4Z"
   },
   "outputs": [],
   "source": [
    "sample_num = trial_samples[0].shape[0]  # real sample_num\n",
    "\n",
    "trial_datas = []\n",
    "for trial_sample in trial_samples:\n",
    "    trial_data = Parallel(n_jobs=-1)(\n",
    "        delayed(load_time_series)(segment, multi_folder)\n",
    "        for sample in trial_sample\n",
    "        for segment in sample\n",
    "    )  # len(samples ) with each (7, MOTIF_LENGTH)\n",
    "\n",
    "    trial_datas.append(\n",
    "        np.array(trial_data).reshape(sample_num, -1, MOTIF_LENGTH)\n",
    "    )  # sample_num, 7, MOTIF_LENGTH"
   ]
  },
  {
   "cell_type": "code",
   "execution_count": null,
   "metadata": {
    "id": "CghX9EIz0Pmn"
   },
   "outputs": [],
   "source": [
    "grouped_motif_ids = []\n",
    "grouped_motif_barycenters = []\n",
    "grouped_k_medoid_ids = []\n",
    "grouped_k_medoid_barycenters = []\n",
    "\n",
    "for trial_data in trial_datas:\n",
    "    # apply motif\n",
    "    motif_results = Parallel(n_jobs=-1)(\n",
    "        delayed(apply_motifs)(multi_motif, multi_tau, sample) for sample in trial_data\n",
    "    )  # len(samples)\n",
    "\n",
    "    motif_ids, motif_barycenters = zip(*motif_results)\n",
    "    # sample_num,7 and sample_num, 7, MOTIF_LENGTH\n",
    "    motif_ids = np.array(motif_ids)\n",
    "    motif_barycenters = np.array(motif_barycenters)\n",
    "\n",
    "    grouped_motif_ids.append(motif_ids)\n",
    "    grouped_motif_barycenters.append(motif_barycenters)\n",
    "\n",
    "    \"\"\"do the same thing as above for k_medoid, change MOTIF_LENGTH to K_MEDOID_LENGTH\"\"\"\n",
    "    k_medoid_results = Parallel(n_jobs=-1)(\n",
    "        delayed(apply_k_medoids)(multi_threshold, sample, multi_k_medoid)\n",
    "        for sample in original_healthy_datas\n",
    "    )  # len(sample_num)\n",
    "\n",
    "    k_medoid_ids, k_medoid_barycenters = zip(*k_medoid_results)\n",
    "    k_medoid_ids = np.array(k_medoid_ids)\n",
    "    k_medoid_barycenters = np.array(k_medoid_barycenters)\n",
    "\n",
    "    grouped_k_medoid_ids.append(k_medoid_ids)\n",
    "    grouped_k_medoid_barycenters.append(k_medoid_barycenters)"
   ]
  },
  {
   "cell_type": "code",
   "execution_count": null,
   "metadata": {
    "id": "Id5I0XQj9Z6u",
    "outputId": "5a3a2c85-2cd8-4a86-e438-f583ce75feb3"
   },
   "outputs": [],
   "source": [
    "# draw histogram\n",
    "# TODO: if you find your bars not aligned well with the unique clusters:\n",
    "# try modify offsets = np.linspace(-bin_width / 2, bin_width / 2, subset_num) code in draw_histogram function\n",
    "# modify the number until aligned well\n",
    "# TODO: if there are too many classes, if may be hard to visualize, you can try draw several histogram to visualize some subsets of grouped_motif_ids\n",
    "# TODO: if kde lines do not look right, try adjust kde_kws={\"bw_adjust\": 0.1},\n",
    "# TODO: evaluate the plot\n",
    "\n",
    "\n",
    "draw_histogram(\n",
    "    grouped_motif_ids,\n",
    "    css4_colors[:4],\n",
    "    len(grouped_motif_ids),\n",
    ")\n",
    "\n",
    "\n",
    "# draw tsne\n",
    "\n",
    "\n",
    "# TODO: evaluate the plot\n",
    "\n",
    "\n",
    "draw_tsne(\n",
    "    grouped_motif_barycenters,\n",
    "    len(grouped_motif_barycenters),\n",
    ")\n",
    "\n",
    "\n",
    "\"\"\"do the same thing as above for k_medoid, change MOTIF_LENGTH to K_MEDOID_LENGTH\"\"\"\n",
    "\n",
    "\n",
    "# TODO: evaluate the plot\n",
    "\n",
    "\n",
    "draw_histogram(\n",
    "    grouped_k_medoid_ids,\n",
    "    css4_colors[:4],\n",
    "    len(grouped_k_medoid_ids),\n",
    ")\n",
    "\n",
    "\n",
    "# TODO: evaluate the plot\n",
    "\n",
    "\n",
    "draw_tsne(\n",
    "    grouped_k_medoid_barycenters,\n",
    "    len(grouped_k_medoid_barycenters),\n",
    ")"
   ]
  },
  {
   "cell_type": "code",
   "execution_count": null,
   "metadata": {
    "id": "9ncfOnLhBqLl",
    "outputId": "f1381cdd-c5fc-4050-f83c-b90a5e509f54"
   },
   "outputs": [],
   "source": [
    "grouped_motif_ids = np.array(grouped_motif_ids)  # subset_num, sample_num, 7\n",
    "grouped_motif_barycenters = np.array(\n",
    "    grouped_motif_barycenters\n",
    ")  # subset_num, sample_num,7, MOTIF_LENGTH\n",
    "\n",
    "grouped_k_medoid_ids = np.array(grouped_k_medoid_ids)\n",
    "grouped_k_medoid_barycenters = np.array(grouped_k_medoid_barycenters)\n",
    "\n",
    "print(grouped_motif_ids.shape)\n",
    "print(grouped_motif_barycenters.shape)"
   ]
  },
  {
   "cell_type": "code",
   "execution_count": null,
   "metadata": {
    "id": "hCUWIZwBBqLl",
    "outputId": "6a615bfb-0729-408c-a59c-838faa8f0680"
   },
   "outputs": [],
   "source": [
    "n = len(grouped_motif_ids)\n",
    "indices = list(combinations(range(n), 2))\n",
    "\n",
    "# apply MMD test for each pair of samples\n",
    "for i, j in indices:\n",
    "\n",
    "    sample1 = grouped_motif_ids[i]  # (sample_nums, 7)\n",
    "    sample2 = grouped_motif_ids[j]\n",
    "    # TODO: evalute the results\n",
    "    # the returend MMD metrics are MMD Score, p_value\n",
    "    print(\n",
    "        f\"MMD test for motif cluster ids distribution of subset {i} and {j}: \",\n",
    "        calculate_mmd(sample1, sample2),\n",
    "    )\n",
    "\n",
    "    centers_sample1 = grouped_motif_barycenters[i]\n",
    "    # (sample_num, days, MOTIF_LENGTH)\n",
    "    centers_sample2 = grouped_motif_barycenters[j]\n",
    "    # pca (days, MOTIF_LENGTH) -> ((days, only one features)\n",
    "\n",
    "    pca_centers_sample1 = Parallel(n_jobs=-1)(\n",
    "        delayed(apply_pca)(multi_motif_pca, sample) for sample in centers_sample1\n",
    "    )  # len(samples_num)\n",
    "    pca_centers_sample1 = np.squeeze(\n",
    "        np.array(pca_centers_sample1)\n",
    "    )  # (sample_num, days)\n",
    "\n",
    "    pca_centers_sample2 = Parallel(n_jobs=-1)(\n",
    "        delayed(apply_pca)(multi_motif_pca, sample) for sample in centers_sample2\n",
    "    )  # len(samples_num)\n",
    "    pca_centers_sample2 = np.squeeze(\n",
    "        np.array(pca_centers_sample2)\n",
    "    )  # (sample_num, days)\n",
    "\n",
    "    # TODO: evalute the results\n",
    "    print(\n",
    "        f\"MMD test for motif pca cluster barycenters distribution of subset {i} and {j}: \",\n",
    "        calculate_mmd(pca_centers_sample1, pca_centers_sample2),\n",
    "    )\n",
    "\n",
    "    # treat each day as a sample\n",
    "    flatten_sample1 = sample1.reshape(-1)  # (sample_nums*7)\n",
    "    flatten_sample2 = sample2.reshape(-1)\n",
    "    # TODO: evalute the results\n",
    "    print(\n",
    "        f\"KS test for motif ids distribution of subset {i} and {j}: \",\n",
    "        stats.ks_2samp(flatten_sample1, flatten_sample2),\n",
    "    )\n",
    "\n",
    "    # treat each day as a sample\n",
    "    flatten_centers_sample1 = centers_sample1.reshape(-1, MOTIF_LENGTH)\n",
    "    flatten_centers_sample2 = centers_sample2.reshape(-1, MOTIF_LENGTH)\n",
    "    # TODO: evalute the results\n",
    "    print(\n",
    "        f\"MMD test for motif flatten cluster barycenters distribution of subset {i} and {j}: \",\n",
    "        calculate_mmd(flatten_centers_sample1, flatten_centers_sample2),\n",
    "    )\n",
    "\n",
    "    \"\"\"do the same thing as above for k_medoid, change MOTIF_LENGTH to K_MEDOID_LENGTH\"\"\"\n",
    "    sample1 = grouped_k_medoid_ids[i]\n",
    "    sample2 = grouped_k_medoid_ids[j]\n",
    "    # TODO: evalute the results\n",
    "    print(\n",
    "        f\"MMD test for k medoid cluster ids distribution of subset {i} and {j}: \",\n",
    "        calculate_mmd(sample1, sample2),\n",
    "    )\n",
    "\n",
    "    centers_sample1 = grouped_k_medoid_barycenters[i]\n",
    "    centers_sample2 = grouped_k_medoid_barycenters[j]\n",
    "\n",
    "    pca_centers_sample1 = Parallel(n_jobs=-1)(\n",
    "        delayed(apply_pca)(multi_k_medoid_pca, sample) for sample in centers_sample1\n",
    "    )  # len(samples_num)\n",
    "    pca_centers_sample1 = np.squeeze(\n",
    "        np.array(pca_centers_sample1)\n",
    "    )  # (sample_num, days)\n",
    "    pca_centers_sample2 = Parallel(n_jobs=-1)(\n",
    "        delayed(apply_pca)(multi_k_medoid_pca, sample) for sample in centers_sample2\n",
    "    )  # len(samples_num)\n",
    "    pca_centers_sample2 = np.squeeze(\n",
    "        np.array(pca_centers_sample2)\n",
    "    )  # (sample_num, days)\n",
    "\n",
    "    # TODO: evalute the results\n",
    "    print(\n",
    "        f\"MMD test for k medoid pca cluster barycenters distribution of subset {i} and {j}: \",\n",
    "        calculate_mmd(pca_centers_sample1, pca_centers_sample2),\n",
    "    )\n",
    "\n",
    "    flatten_sample1 = sample1.reshape(-1)\n",
    "    flatten_sample2 = sample2.reshape(-1)\n",
    "    # TODO: evalute the results\n",
    "    print(\n",
    "        f\"KS test for k medoid ids distribution of subset {i} and {j}: \",\n",
    "        stats.ks_2samp(flatten_sample1, flatten_sample2),\n",
    "    )\n",
    "\n",
    "    flatten_centers_sample1 = centers_sample1.reshape(-1, K_MEDOID_LENGTH)\n",
    "    flatten_centers_sample2 = centers_sample2.reshape(-1, K_MEDOID_LENGTH)\n",
    "    # TODO: evalute the results\n",
    "    print(\n",
    "        f\"MMD test for k medoid flatten cluster barycenters distribution of subset {i} and {j}: \",\n",
    "        calculate_mmd(flatten_centers_sample1, flatten_centers_sample2),\n",
    "    )\n",
    "\n",
    "# TODO: try to apply above codes to different age groups and tir groups in single source dataset\n",
    "\n",
    "# take features table and evaluate if there is any significant differences in features that could explain the difference in subset\n",
    "# elderly_samples, 3dimension\n",
    "# TODO: please draw tableone from sample_df, groupby the groups you choose\n",
    "# TODO: you can also draw side by side boxplot\n",
    "flatten_features = [\n",
    "    sample[0] for elderly_sample in elderly_samples for sample in elderly_sample\n",
    "]\n",
    "# TODO: in this df, because all groups come from the same basic age group\n",
    "# you may need to generate another column for groupby to draw tableone\n",
    "# from the above flatten_features we could know that: in this case, the first 5 samples come from subset 1, 6-10 come from subset 2\n",
    "# you can use above infos to generate your groupby column\n",
    "sample_df = create_features_df(flatten_features)"
   ]
  }
 ],
 "metadata": {
  "colab": {
   "provenance": []
  },
  "kernelspec": {
   "display_name": "Python (retry)",
   "language": "python",
   "name": "retry"
  },
  "language_info": {
   "codemirror_mode": {
    "name": "ipython",
    "version": 3
   },
   "file_extension": ".py",
   "mimetype": "text/x-python",
   "name": "python",
   "nbconvert_exporter": "python",
   "pygments_lexer": "ipython3",
   "version": "3.9.21"
  }
 },
 "nbformat": 4,
 "nbformat_minor": 4
}
